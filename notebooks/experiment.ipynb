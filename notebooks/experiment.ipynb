{
 "cells": [
  {
   "cell_type": "code",
   "execution_count": 1,
   "metadata": {},
   "outputs": [],
   "source": [
    "import re\n",
    "\n",
    "import ebooklib\n",
    "from ebooklib import epub\n",
    "import nltk\n",
    "from bs4 import BeautifulSoup\n",
    "import altair as alt\n",
    "import pandas as pd"
   ]
  },
  {
   "cell_type": "code",
   "execution_count": 2,
   "metadata": {},
   "outputs": [
    {
     "data": {
      "text/plain": [
       "'../books/unfree/The Overstory - Richard Powers.epub'"
      ]
     },
     "execution_count": 2,
     "metadata": {},
     "output_type": "execute_result"
    }
   ],
   "source": [
    "books = [\n",
    "    '../books/free/Great Expectations - Charles Dickens.epub',\n",
    "    '../books/unfree/The Overstory - Richard Powers.epub'\n",
    "]\n",
    "\n",
    "book_choice = books[1]\n",
    "book_choice"
   ]
  },
  {
   "cell_type": "code",
   "execution_count": 3,
   "metadata": {},
   "outputs": [],
   "source": [
    "def get_section_header(text):\n",
    "    return text.strip().split(\"\\n\")[0]"
   ]
  },
  {
   "cell_type": "code",
   "execution_count": 4,
   "metadata": {},
   "outputs": [],
   "source": [
    "book = epub.read_epub(book_choice)\n",
    "items = book.get_items_of_type(ebooklib.ITEM_DOCUMENT)\n",
    "\n",
    "d = {}\n",
    "for item in items:\n",
    "    \n",
    "    name = item.get_name()\n",
    "    id_ = item.get_id()\n",
    "    \n",
    "    content = item.get_body_content()\n",
    "    soup = BeautifulSoup(content)\n",
    "    text = soup.get_text()\n",
    "    \n",
    "    header = get_section_header(text)\n",
    "    \n",
    "    d[id_] = dict(\n",
    "        section_name=name,\n",
    "        section_id=id_,\n",
    "        text=text,\n",
    "        header=header,\n",
    "    )"
   ]
  },
  {
   "cell_type": "code",
   "execution_count": 5,
   "metadata": {},
   "outputs": [
    {
     "data": {
      "text/plain": [
       "['Cover',\n",
       " 'toc',\n",
       " 'title',\n",
       " 'ch1',\n",
       " 'ch2',\n",
       " 'ch3',\n",
       " 'ch4',\n",
       " 'ch5',\n",
       " 'ch6',\n",
       " 'ch7',\n",
       " 'ch8',\n",
       " 'ch9',\n",
       " 'ch10',\n",
       " 'ch11',\n",
       " 'ch12',\n",
       " 'also',\n",
       " 'ded',\n",
       " 'epi',\n",
       " 'copy']"
      ]
     },
     "execution_count": 5,
     "metadata": {},
     "output_type": "execute_result"
    }
   ],
   "source": [
    "# ids\n",
    "sections = list(d.keys())\n",
    "sections"
   ]
  },
  {
   "cell_type": "code",
   "execution_count": 6,
   "metadata": {},
   "outputs": [
    {
     "data": {
      "text/plain": [
       "['cover.xhtml',\n",
       " 'toc.xhtml',\n",
       " 'title.xhtml',\n",
       " 'ch1.xhtml',\n",
       " 'ch2.xhtml',\n",
       " 'ch3.xhtml',\n",
       " 'ch4.xhtml',\n",
       " 'ch5.xhtml',\n",
       " 'ch6.xhtml',\n",
       " 'ch7.xhtml',\n",
       " 'ch8.xhtml',\n",
       " 'ch9.xhtml',\n",
       " 'ch10.xhtml',\n",
       " 'ch11.xhtml',\n",
       " 'ch12.xhtml',\n",
       " 'also.xhtml',\n",
       " 'ded.xhtml',\n",
       " 'epi.xhtml',\n",
       " 'copy.xhtml']"
      ]
     },
     "execution_count": 6,
     "metadata": {},
     "output_type": "execute_result"
    }
   ],
   "source": [
    "# names\n",
    "[x['section_name'] for x in d.values()]"
   ]
  },
  {
   "cell_type": "code",
   "execution_count": 7,
   "metadata": {},
   "outputs": [],
   "source": [
    "def show_preview(i):\n",
    "    section = sections[i]\n",
    "    print(\"id:\", section)\n",
    "    print(\"name:\", d[section]['section_name'])\n",
    "    print(\"header:\", d[section]['header'])\n",
    "    \n",
    "    text = d[section]['text']\n",
    "    print(\"=\"*50)\n",
    "    display(text[:200])\n",
    "    print(\"...\")\n",
    "    display(text[-200:])"
   ]
  },
  {
   "cell_type": "code",
   "execution_count": 8,
   "metadata": {},
   "outputs": [
    {
     "name": "stdout",
     "output_type": "stream",
     "text": [
      "id: ch2\n",
      "name: ch2.xhtml\n",
      "header: NICHOLAS HOEL\n",
      "==================================================\n"
     ]
    },
    {
     "data": {
      "text/plain": [
       "'\\nNICHOLAS HOEL\\n\\nNOW IS THE TIME of chestnuts.\\nPeople are hurling stones at the giant trunks. The nuts fall all around them in a divine hail. It happens in countless places this Sunday, from Georgia to'"
      ]
     },
     "metadata": {},
     "output_type": "display_data"
    },
    {
     "name": "stdout",
     "output_type": "stream",
     "text": [
      "...\n"
     ]
    },
    {
     "data": {
      "text/plain": [
       "'he breeze as if this moment, too, so insignificant, so transitory, will be written into its rings and prayed over by branches that wave their semaphores against the bluest of midwestern winter skies.\\n'"
      ]
     },
     "metadata": {},
     "output_type": "display_data"
    }
   ],
   "source": [
    "show_preview(4)"
   ]
  },
  {
   "cell_type": "markdown",
   "metadata": {},
   "source": [
    "## Get Main Content"
   ]
  },
  {
   "cell_type": "code",
   "execution_count": 9,
   "metadata": {},
   "outputs": [],
   "source": [
    "content = {}\n",
    "for section, v in d.items():\n",
    "    if \"ch\" in section:\n",
    "        chapter_num = int(''.join(filter(str.isdigit, v['section_id'])))\n",
    "        title = f\"{chapter_num:02} - {v['header']}\"\n",
    "        content[title] = v"
   ]
  },
  {
   "cell_type": "code",
   "execution_count": 10,
   "metadata": {},
   "outputs": [
    {
     "data": {
      "text/plain": [
       "['01 - ROOTS',\n",
       " '02 - NICHOLAS HOEL',\n",
       " '03 - MIMI MA',\n",
       " '04 - ADAM APPICH',\n",
       " '05 - RAY BRINKMAN AND DOROTHY CAZALY',\n",
       " '06 - DOUGLAS PAVLICEK',\n",
       " '07 - NEELAY MEHTA',\n",
       " '08 - PATRICIA WESTERFORD',\n",
       " '09 - OLIVIA VANDERGRIFF',\n",
       " '10 - TRUNK',\n",
       " '11 - CROWN',\n",
       " '12 - SEEDS']"
      ]
     },
     "execution_count": 10,
     "metadata": {},
     "output_type": "execute_result"
    }
   ],
   "source": [
    "content_keys = list(content.keys())\n",
    "content_keys"
   ]
  },
  {
   "cell_type": "code",
   "execution_count": 11,
   "metadata": {},
   "outputs": [
    {
     "data": {
      "text/plain": [
       "dict_keys(['section_name', 'section_id', 'text', 'header'])"
      ]
     },
     "execution_count": 11,
     "metadata": {},
     "output_type": "execute_result"
    }
   ],
   "source": [
    "k = content_keys[0]\n",
    "content[k].keys()"
   ]
  },
  {
   "cell_type": "markdown",
   "metadata": {},
   "source": [
    "## Word Counts"
   ]
  },
  {
   "cell_type": "code",
   "execution_count": 12,
   "metadata": {},
   "outputs": [
    {
     "data": {
      "text/html": [
       "<div>\n",
       "<style scoped>\n",
       "    .dataframe tbody tr th:only-of-type {\n",
       "        vertical-align: middle;\n",
       "    }\n",
       "\n",
       "    .dataframe tbody tr th {\n",
       "        vertical-align: top;\n",
       "    }\n",
       "\n",
       "    .dataframe thead th {\n",
       "        text-align: right;\n",
       "    }\n",
       "</style>\n",
       "<table border=\"1\" class=\"dataframe\">\n",
       "  <thead>\n",
       "    <tr style=\"text-align: right;\">\n",
       "      <th></th>\n",
       "      <th>chapter</th>\n",
       "      <th>word_count</th>\n",
       "    </tr>\n",
       "  </thead>\n",
       "  <tbody>\n",
       "    <tr>\n",
       "      <th>0</th>\n",
       "      <td>01 - ROOTS</td>\n",
       "      <td>2360</td>\n",
       "    </tr>\n",
       "    <tr>\n",
       "      <th>1</th>\n",
       "      <td>02 - NICHOLAS HOEL</td>\n",
       "      <td>40451</td>\n",
       "    </tr>\n",
       "    <tr>\n",
       "      <th>2</th>\n",
       "      <td>03 - MIMI MA</td>\n",
       "      <td>44610</td>\n",
       "    </tr>\n",
       "    <tr>\n",
       "      <th>3</th>\n",
       "      <td>04 - ADAM APPICH</td>\n",
       "      <td>32358</td>\n",
       "    </tr>\n",
       "    <tr>\n",
       "      <th>4</th>\n",
       "      <td>05 - RAY BRINKMAN AND DOROTHY CAZALY</td>\n",
       "      <td>16053</td>\n",
       "    </tr>\n",
       "    <tr>\n",
       "      <th>5</th>\n",
       "      <td>06 - DOUGLAS PAVLICEK</td>\n",
       "      <td>38900</td>\n",
       "    </tr>\n",
       "    <tr>\n",
       "      <th>6</th>\n",
       "      <td>07 - NEELAY MEHTA</td>\n",
       "      <td>42932</td>\n",
       "    </tr>\n",
       "    <tr>\n",
       "      <th>7</th>\n",
       "      <td>08 - PATRICIA WESTERFORD</td>\n",
       "      <td>69615</td>\n",
       "    </tr>\n",
       "    <tr>\n",
       "      <th>8</th>\n",
       "      <td>09 - OLIVIA VANDERGRIFF</td>\n",
       "      <td>15499</td>\n",
       "    </tr>\n",
       "    <tr>\n",
       "      <th>9</th>\n",
       "      <td>10 - TRUNK</td>\n",
       "      <td>386394</td>\n",
       "    </tr>\n",
       "    <tr>\n",
       "      <th>10</th>\n",
       "      <td>11 - CROWN</td>\n",
       "      <td>239534</td>\n",
       "    </tr>\n",
       "    <tr>\n",
       "      <th>11</th>\n",
       "      <td>12 - SEEDS</td>\n",
       "      <td>56126</td>\n",
       "    </tr>\n",
       "  </tbody>\n",
       "</table>\n",
       "</div>"
      ],
      "text/plain": [
       "                                 chapter  word_count\n",
       "0                             01 - ROOTS        2360\n",
       "1                     02 - NICHOLAS HOEL       40451\n",
       "2                           03 - MIMI MA       44610\n",
       "3                       04 - ADAM APPICH       32358\n",
       "4   05 - RAY BRINKMAN AND DOROTHY CAZALY       16053\n",
       "5                  06 - DOUGLAS PAVLICEK       38900\n",
       "6                      07 - NEELAY MEHTA       42932\n",
       "7               08 - PATRICIA WESTERFORD       69615\n",
       "8                09 - OLIVIA VANDERGRIFF       15499\n",
       "9                             10 - TRUNK      386394\n",
       "10                            11 - CROWN      239534\n",
       "11                            12 - SEEDS       56126"
      ]
     },
     "execution_count": 12,
     "metadata": {},
     "output_type": "execute_result"
    }
   ],
   "source": [
    "chapters = []\n",
    "counts = []\n",
    "\n",
    "for title, v in content.items():\n",
    "    chapters.append(title)\n",
    "    counts.append(len(v['text']))\n",
    "\n",
    "data = pd.DataFrame(dict(\n",
    "    chapter=chapters,\n",
    "    word_count=counts\n",
    "))\n",
    "\n",
    "data"
   ]
  },
  {
   "cell_type": "code",
   "execution_count": 13,
   "metadata": {},
   "outputs": [
    {
     "data": {
      "application/vnd.vegalite.v3+json": {
       "$schema": "https://vega.github.io/schema/vega-lite/v3.3.0.json",
       "config": {
        "mark": {
         "tooltip": null
        },
        "view": {
         "height": 300,
         "width": 400
        }
       },
       "data": {
        "name": "data-cdf85f303a267fd42d30500b55806855"
       },
       "datasets": {
        "data-cdf85f303a267fd42d30500b55806855": [
         {
          "chapter": "01 - ROOTS",
          "word_count": 2360
         },
         {
          "chapter": "02 - NICHOLAS HOEL",
          "word_count": 40451
         },
         {
          "chapter": "03 - MIMI MA",
          "word_count": 44610
         },
         {
          "chapter": "04 - ADAM APPICH",
          "word_count": 32358
         },
         {
          "chapter": "05 - RAY BRINKMAN AND DOROTHY CAZALY",
          "word_count": 16053
         },
         {
          "chapter": "06 - DOUGLAS PAVLICEK",
          "word_count": 38900
         },
         {
          "chapter": "07 - NEELAY MEHTA",
          "word_count": 42932
         },
         {
          "chapter": "08 - PATRICIA WESTERFORD",
          "word_count": 69615
         },
         {
          "chapter": "09 - OLIVIA VANDERGRIFF",
          "word_count": 15499
         },
         {
          "chapter": "10 - TRUNK",
          "word_count": 386394
         },
         {
          "chapter": "11 - CROWN",
          "word_count": 239534
         },
         {
          "chapter": "12 - SEEDS",
          "word_count": 56126
         }
        ]
       },
       "encoding": {
        "x": {
         "field": "word_count",
         "title": "Word Count",
         "type": "quantitative"
        },
        "y": {
         "field": "chapter",
         "title": "Chapter",
         "type": "nominal"
        }
       },
       "mark": "bar"
      },
      "image/png": "[encoded data removed]",
      "text/plain": [
       "<VegaLite 3 object>\n",
       "\n",
       "If you see this message, it means the renderer has not been properly enabled\n",
       "for the frontend that you are using. For more information, see\n",
       "https://altair-viz.github.io/user_guide/troubleshooting.html\n"
      ]
     },
     "execution_count": 13,
     "metadata": {},
     "output_type": "execute_result"
    }
   ],
   "source": [
    "alt.Chart(data).mark_bar().encode(\n",
    "    alt.X('word_count', title='Word Count'),\n",
    "    alt.Y('chapter', title='Chapter'),\n",
    ")"
   ]
  },
  {
   "cell_type": "code",
   "execution_count": null,
   "metadata": {},
   "outputs": [],
   "source": []
  },
  {
   "cell_type": "markdown",
   "metadata": {},
   "source": [
    "## Freq Words"
   ]
  },
  {
   "cell_type": "code",
   "execution_count": 14,
   "metadata": {},
   "outputs": [],
   "source": [
    "import operator\n",
    "from functools import reduce\n",
    "\n",
    "from nltk.corpus import stopwords\n",
    "from collections import Counter"
   ]
  },
  {
   "cell_type": "code",
   "execution_count": 33,
   "metadata": {},
   "outputs": [],
   "source": [
    "stop_words = set(stopwords.words('english')) \n",
    "\n",
    "def get_freq_words(section_id):\n",
    "    text = d[section_id]['text']\n",
    "    \n",
    "    # tokenize\n",
    "    word_tokens = nltk.word_tokenize(text)\n",
    "\n",
    "    # remove punctuation\n",
    "    words = [word.lower() for word in word_tokens if word.isalpha()]\n",
    "\n",
    "    # remove stop words\n",
    "    filtered_words = [w for w in words if not w in stop_words]\n",
    "    \n",
    "    c = Counter(filtered_words)\n",
    "    return c.most_common(5)"
   ]
  },
  {
   "cell_type": "code",
   "execution_count": 34,
   "metadata": {},
   "outputs": [
    {
     "data": {
      "text/html": [
       "<div>\n",
       "<style scoped>\n",
       "    .dataframe tbody tr th:only-of-type {\n",
       "        vertical-align: middle;\n",
       "    }\n",
       "\n",
       "    .dataframe tbody tr th {\n",
       "        vertical-align: top;\n",
       "    }\n",
       "\n",
       "    .dataframe thead th {\n",
       "        text-align: right;\n",
       "    }\n",
       "</style>\n",
       "<table border=\"1\" class=\"dataframe\">\n",
       "  <thead>\n",
       "    <tr style=\"text-align: right;\">\n",
       "      <th></th>\n",
       "      <th>word</th>\n",
       "      <th>count</th>\n",
       "      <th>chapter</th>\n",
       "    </tr>\n",
       "  </thead>\n",
       "  <tbody>\n",
       "    <tr>\n",
       "      <th>46</th>\n",
       "      <td>one</td>\n",
       "      <td>209</td>\n",
       "      <td>10 - TRUNK</td>\n",
       "    </tr>\n",
       "    <tr>\n",
       "      <th>51</th>\n",
       "      <td>like</td>\n",
       "      <td>159</td>\n",
       "      <td>11 - CROWN</td>\n",
       "    </tr>\n",
       "    <tr>\n",
       "      <th>31</th>\n",
       "      <td>like</td>\n",
       "      <td>42</td>\n",
       "      <td>07 - NEELAY MEHTA</td>\n",
       "    </tr>\n",
       "    <tr>\n",
       "      <th>54</th>\n",
       "      <td>two</td>\n",
       "      <td>92</td>\n",
       "      <td>11 - CROWN</td>\n",
       "    </tr>\n",
       "    <tr>\n",
       "      <th>2</th>\n",
       "      <td>right</td>\n",
       "      <td>4</td>\n",
       "      <td>01 - ROOTS</td>\n",
       "    </tr>\n",
       "  </tbody>\n",
       "</table>\n",
       "</div>"
      ],
      "text/plain": [
       "     word  count            chapter\n",
       "46    one    209         10 - TRUNK\n",
       "51   like    159         11 - CROWN\n",
       "31   like     42  07 - NEELAY MEHTA\n",
       "54    two     92         11 - CROWN\n",
       "2   right      4         01 - ROOTS"
      ]
     },
     "execution_count": 34,
     "metadata": {},
     "output_type": "execute_result"
    }
   ],
   "source": [
    "counts = []\n",
    "for title, v in content.items():\n",
    "    res = get_freq_words(v['section_id'])\n",
    "    res = [(*t, title) for t in res]\n",
    "    counts.append(res)\n",
    "\n",
    "counts_joined = reduce(operator.add, counts)\n",
    "\n",
    "data = pd.DataFrame(counts_joined, columns=['word', 'count', 'chapter'])\n",
    "data.sample(n=5)"
   ]
  },
  {
   "cell_type": "code",
   "execution_count": 42,
   "metadata": {},
   "outputs": [
    {
     "data": {
      "application/vnd.vegalite.v3+json": {
       "$schema": "https://vega.github.io/schema/vega-lite/v3.3.0.json",
       "background": "white",
       "config": {
        "mark": {
         "tooltip": null
        },
        "view": {
         "height": 300,
         "width": 400
        }
       },
       "data": {
        "name": "data-e36115204587b3f35f50ca82ea30e984"
       },
       "datasets": {
        "data-e36115204587b3f35f50ca82ea30e984": [
         {
          "chapter": "01 - ROOTS",
          "count": 4,
          "word": "woman"
         },
         {
          "chapter": "01 - ROOTS",
          "count": 4,
          "word": "says"
         },
         {
          "chapter": "01 - ROOTS",
          "count": 4,
          "word": "right"
         },
         {
          "chapter": "01 - ROOTS",
          "count": 3,
          "word": "nothing"
         },
         {
          "chapter": "01 - ROOTS",
          "count": 3,
          "word": "air"
         },
         {
          "chapter": "02 - NICHOLAS HOEL",
          "count": 45,
          "word": "hoel"
         },
         {
          "chapter": "02 - NICHOLAS HOEL",
          "count": 33,
          "word": "tree"
         },
         {
          "chapter": "02 - NICHOLAS HOEL",
          "count": 29,
          "word": "one"
         },
         {
          "chapter": "02 - NICHOLAS HOEL",
          "count": 26,
          "word": "chestnut"
         },
         {
          "chapter": "02 - NICHOLAS HOEL",
          "count": 26,
          "word": "father"
         },
         {
          "chapter": "03 - MIMI MA",
          "count": 56,
          "word": "mimi"
         },
         {
          "chapter": "03 - MIMI MA",
          "count": 41,
          "word": "father"
         },
         {
          "chapter": "03 - MIMI MA",
          "count": 38,
          "word": "one"
         },
         {
          "chapter": "03 - MIMI MA",
          "count": 35,
          "word": "like"
         },
         {
          "chapter": "03 - MIMI MA",
          "count": 33,
          "word": "sih"
         },
         {
          "chapter": "04 - ADAM APPICH",
          "count": 67,
          "word": "adam"
         },
         {
          "chapter": "04 - ADAM APPICH",
          "count": 25,
          "word": "one"
         },
         {
          "chapter": "04 - ADAM APPICH",
          "count": 21,
          "word": "tree"
         },
         {
          "chapter": "04 - ADAM APPICH",
          "count": 20,
          "word": "leigh"
         },
         {
          "chapter": "04 - ADAM APPICH",
          "count": 19,
          "word": "father"
         },
         {
          "chapter": "05 - RAY BRINKMAN AND DOROTHY CAZALY",
          "count": 14,
          "word": "two"
         },
         {
          "chapter": "05 - RAY BRINKMAN AND DOROTHY CAZALY",
          "count": 13,
          "word": "ray"
         },
         {
          "chapter": "05 - RAY BRINKMAN AND DOROTHY CAZALY",
          "count": 12,
          "word": "like"
         },
         {
          "chapter": "05 - RAY BRINKMAN AND DOROTHY CAZALY",
          "count": 12,
          "word": "something"
         },
         {
          "chapter": "05 - RAY BRINKMAN AND DOROTHY CAZALY",
          "count": 11,
          "word": "dorothy"
         },
         {
          "chapter": "06 - DOUGLAS PAVLICEK",
          "count": 28,
          "word": "like"
         },
         {
          "chapter": "06 - DOUGLAS PAVLICEK",
          "count": 26,
          "word": "one"
         },
         {
          "chapter": "06 - DOUGLAS PAVLICEK",
          "count": 23,
          "word": "back"
         },
         {
          "chapter": "06 - DOUGLAS PAVLICEK",
          "count": 21,
          "word": "douglas"
         },
         {
          "chapter": "06 - DOUGLAS PAVLICEK",
          "count": 17,
          "word": "two"
         },
         {
          "chapter": "07 - NEELAY MEHTA",
          "count": 52,
          "word": "neelay"
         },
         {
          "chapter": "07 - NEELAY MEHTA",
          "count": 42,
          "word": "like"
         },
         {
          "chapter": "07 - NEELAY MEHTA",
          "count": 34,
          "word": "father"
         },
         {
          "chapter": "07 - NEELAY MEHTA",
          "count": 31,
          "word": "boy"
         },
         {
          "chapter": "07 - NEELAY MEHTA",
          "count": 19,
          "word": "one"
         },
         {
          "chapter": "08 - PATRICIA WESTERFORD",
          "count": 62,
          "word": "trees"
         },
         {
          "chapter": "08 - PATRICIA WESTERFORD",
          "count": 46,
          "word": "one"
         },
         {
          "chapter": "08 - PATRICIA WESTERFORD",
          "count": 39,
          "word": "like"
         },
         {
          "chapter": "08 - PATRICIA WESTERFORD",
          "count": 34,
          "word": "forest"
         },
         {
          "chapter": "08 - PATRICIA WESTERFORD",
          "count": 30,
          "word": "patricia"
         },
         {
          "chapter": "09 - OLIVIA VANDERGRIFF",
          "count": 15,
          "word": "one"
         },
         {
          "chapter": "09 - OLIVIA VANDERGRIFF",
          "count": 13,
          "word": "like"
         },
         {
          "chapter": "09 - OLIVIA VANDERGRIFF",
          "count": 10,
          "word": "olivia"
         },
         {
          "chapter": "09 - OLIVIA VANDERGRIFF",
          "count": 9,
          "word": "back"
         },
         {
          "chapter": "09 - OLIVIA VANDERGRIFF",
          "count": 9,
          "word": "little"
         },
         {
          "chapter": "10 - TRUNK",
          "count": 286,
          "word": "like"
         },
         {
          "chapter": "10 - TRUNK",
          "count": 209,
          "word": "one"
         },
         {
          "chapter": "10 - TRUNK",
          "count": 193,
          "word": "back"
         },
         {
          "chapter": "10 - TRUNK",
          "count": 175,
          "word": "people"
         },
         {
          "chapter": "10 - TRUNK",
          "count": 154,
          "word": "two"
         },
         {
          "chapter": "11 - CROWN",
          "count": 177,
          "word": "one"
         },
         {
          "chapter": "11 - CROWN",
          "count": 159,
          "word": "like"
         },
         {
          "chapter": "11 - CROWN",
          "count": 127,
          "word": "back"
         },
         {
          "chapter": "11 - CROWN",
          "count": 98,
          "word": "trees"
         },
         {
          "chapter": "11 - CROWN",
          "count": 92,
          "word": "two"
         },
         {
          "chapter": "12 - SEEDS",
          "count": 37,
          "word": "life"
         },
         {
          "chapter": "12 - SEEDS",
          "count": 31,
          "word": "one"
         },
         {
          "chapter": "12 - SEEDS",
          "count": 29,
          "word": "back"
         },
         {
          "chapter": "12 - SEEDS",
          "count": 27,
          "word": "man"
         },
         {
          "chapter": "12 - SEEDS",
          "count": 26,
          "word": "even"
         }
        ]
       },
       "encoding": {
        "color": {
         "field": "count",
         "type": "quantitative"
        },
        "size": {
         "field": "count",
         "type": "quantitative"
        },
        "tooltip": [
         {
          "field": "word",
          "type": "nominal"
         },
         {
          "field": "chapter",
          "type": "nominal"
         },
         {
          "field": "count",
          "type": "quantitative"
         }
        ],
        "x": {
         "field": "word",
         "type": "nominal"
        },
        "y": {
         "field": "chapter",
         "type": "nominal"
        }
       },
       "mark": "circle",
       "selection": {
        "selector016": {
         "bind": "scales",
         "encodings": [
          "x",
          "y"
         ],
         "mark": {
          "fill": "#333",
          "fillOpacity": 0.125,
          "stroke": "white"
         },
         "on": "[mousedown, window:mouseup] > window:mousemove!",
         "resolve": "global",
         "translate": "[mousedown, window:mouseup] > window:mousemove!",
         "type": "interval",
         "zoom": "wheel!"
        }
       }
      },
      "image/png": "[encoded data removed]",
      "text/plain": [
       "<VegaLite 3 object>\n",
       "\n",
       "If you see this message, it means the renderer has not been properly enabled\n",
       "for the frontend that you are using. For more information, see\n",
       "https://altair-viz.github.io/user_guide/troubleshooting.html\n"
      ]
     },
     "execution_count": 42,
     "metadata": {},
     "output_type": "execute_result"
    }
   ],
   "source": [
    "chart = alt.Chart(data, background='white').mark_circle().encode(\n",
    "    x='word',\n",
    "    y='chapter',\n",
    "    size='count',\n",
    "    color='count',\n",
    "    tooltip=['word', 'chapter', 'count'],\n",
    ").interactive()\n",
    "\n",
    "chart"
   ]
  },
  {
   "cell_type": "code",
   "execution_count": 43,
   "metadata": {},
   "outputs": [],
   "source": [
    "chart.save('chart.png', scale_factor=2.0)"
   ]
  },
  {
   "cell_type": "code",
   "execution_count": null,
   "metadata": {},
   "outputs": [],
   "source": []
  },
  {
   "cell_type": "markdown",
   "metadata": {},
   "source": [
    "## More NLTK"
   ]
  },
  {
   "cell_type": "markdown",
   "metadata": {},
   "source": [
    "#### Note about stop words\n",
    "\n",
    "Issue with contractions. Maybe alternative tokenizer better?"
   ]
  },
  {
   "cell_type": "code",
   "execution_count": 94,
   "metadata": {},
   "outputs": [
    {
     "data": {
      "text/plain": [
       "['I', 'ca', \"n't\", 'go', '.', 'I', 'do', \"n't\", 'want', 'to', '.']"
      ]
     },
     "execution_count": 94,
     "metadata": {},
     "output_type": "execute_result"
    }
   ],
   "source": [
    "s = \"I can't go. I don't want to.\"\n",
    "tokens = nltk.word_tokenize(s)\n",
    "tokens"
   ]
  },
  {
   "cell_type": "code",
   "execution_count": 95,
   "metadata": {},
   "outputs": [],
   "source": [
    "tagged = nltk.pos_tag(tokens)\n",
    "entities = nltk.chunk.ne_chunk(tagged)"
   ]
  },
  {
   "cell_type": "code",
   "execution_count": 96,
   "metadata": {},
   "outputs": [
    {
     "data": {
      "image/png": "[encoded data removed]",
      "text/plain": [
       "Tree('S', [('I', 'PRP'), ('ca', 'MD'), (\"n't\", 'RB'), ('go', 'VB'), ('.', '.'), ('I', 'PRP'), ('do', 'VBP'), (\"n't\", 'RB'), ('want', 'VB'), ('to', 'TO'), ('.', '.')])"
      ]
     },
     "execution_count": 96,
     "metadata": {},
     "output_type": "execute_result"
    }
   ],
   "source": [
    "entities"
   ]
  },
  {
   "cell_type": "code",
   "execution_count": null,
   "metadata": {},
   "outputs": [],
   "source": [
    "entities."
   ]
  },
  {
   "cell_type": "code",
   "execution_count": null,
   "metadata": {},
   "outputs": [],
   "source": []
  },
  {
   "cell_type": "code",
   "execution_count": 16,
   "metadata": {},
   "outputs": [],
   "source": [
    "text = d['ch3.xhtml']['text']"
   ]
  },
  {
   "cell_type": "code",
   "execution_count": 17,
   "metadata": {},
   "outputs": [
    {
     "data": {
      "text/plain": [
       "'THE DAY IN 1948 when Ma Sih Hsuin gets his third-class ticket for a crossing to San Francisco, his father starts addressing him in English'"
      ]
     },
     "execution_count": 17,
     "metadata": {},
     "output_type": "execute_result"
    }
   ],
   "source": [
    "sentence = text.split(\"\\n\\n\")[1].split(\".\")[0]\n",
    "sentence"
   ]
  },
  {
   "cell_type": "code",
   "execution_count": 18,
   "metadata": {},
   "outputs": [],
   "source": [
    "tokens = nltk.word_tokenize(sentence)\n",
    "tagged = nltk.pos_tag(tokens)\n",
    "entities = nltk.chunk.ne_chunk(tagged)"
   ]
  },
  {
   "cell_type": "code",
   "execution_count": 19,
   "metadata": {},
   "outputs": [
    {
     "data": {
      "text/plain": [
       "[('THE', 'DT'), ('DAY', 'NNP'), ('IN', 'NNP'), ('1948', 'CD'), ('when', 'WRB')]"
      ]
     },
     "execution_count": 19,
     "metadata": {},
     "output_type": "execute_result"
    }
   ],
   "source": [
    "tagged[:5]"
   ]
  },
  {
   "cell_type": "code",
   "execution_count": 20,
   "metadata": {},
   "outputs": [
    {
     "name": "stdout",
     "output_type": "stream",
     "text": [
      "NNP: noun, proper, singular\n",
      "    Motown Venneboerger Czestochwa Ranzer Conchita Trumplane Christos\n",
      "    Oceanside Escobar Kreisler Sawyer Cougar Yvette Ervin ODI Darryl CTCA\n",
      "    Shannon A.K.C. Meltex Liverpool ...\n"
     ]
    }
   ],
   "source": [
    " nltk.help.upenn_tagset('NNP')"
   ]
  },
  {
   "cell_type": "code",
   "execution_count": 21,
   "metadata": {},
   "outputs": [
    {
     "data": {
      "text/plain": [
       "[Tree('PERSON', [('Ma', 'NNP'), ('Sih', 'NNP'), ('Hsuin', 'NNP')]),\n",
       " Tree('GPE', [('San', 'NNP'), ('Francisco', 'NNP')]),\n",
       " Tree('GPE', [('English', 'NNP')])]"
      ]
     },
     "execution_count": 21,
     "metadata": {},
     "output_type": "execute_result"
    }
   ],
   "source": [
    "trees = [x for x in entities if type(x) == nltk.tree.Tree]\n",
    "trees"
   ]
  },
  {
   "cell_type": "code",
   "execution_count": 22,
   "metadata": {},
   "outputs": [
    {
     "data": {
      "image/png": "[encoded data removed]",
      "text/plain": [
       "Tree('PERSON', [('Ma', 'NNP'), ('Sih', 'NNP'), ('Hsuin', 'NNP')])"
      ]
     },
     "execution_count": 22,
     "metadata": {},
     "output_type": "execute_result"
    }
   ],
   "source": [
    "t = trees[0]\n",
    "t"
   ]
  },
  {
   "cell_type": "code",
   "execution_count": 24,
   "metadata": {},
   "outputs": [
    {
     "data": {
      "text/plain": [
       "'PERSON'"
      ]
     },
     "execution_count": 24,
     "metadata": {},
     "output_type": "execute_result"
    }
   ],
   "source": [
    "t.label()"
   ]
  },
  {
   "cell_type": "code",
   "execution_count": 33,
   "metadata": {},
   "outputs": [
    {
     "data": {
      "text/plain": [
       "[('Ma', 'NNP'), ('Sih', 'NNP'), ('Hsuin', 'NNP')]"
      ]
     },
     "execution_count": 33,
     "metadata": {},
     "output_type": "execute_result"
    }
   ],
   "source": [
    "t.leaves()"
   ]
  },
  {
   "cell_type": "code",
   "execution_count": 34,
   "metadata": {},
   "outputs": [],
   "source": [
    "for match in re.finditer(r\"\\bMa\\b\", text):\n",
    "    print(match)\n",
    "    start = match.start() - 20\n",
    "    end = match.end() + 20\n",
    "    \n",
    "    print(text[start:end])\n",
    "    print()"
   ]
  },
  {
   "cell_type": "code",
   "execution_count": 31,
   "metadata": {},
   "outputs": [],
   "source": [
    "# name = r\"\\bHoel\\b\"\n",
    "# name = r\"\\bMa\\b\"\n",
    "name = r\"[19]\\d\\d\"  # a year?"
   ]
  },
  {
   "cell_type": "code",
   "execution_count": 35,
   "metadata": {},
   "outputs": [
    {
     "name": "stdout",
     "output_type": "stream",
     "text": [
      "========\n",
      "cover.xhtml\n",
      "========\n",
      "toc.xhtml\n",
      "========\n",
      "title.xhtml\n",
      "<re.Match object; span=(92, 95), match='192'>\n",
      "nt Publishers Since 1923\n",
      "NEW YORK   •   LON\n",
      "\n",
      "========\n",
      "ch1.xhtml\n",
      "========\n",
      "ch2.xhtml\n",
      "<re.Match object; span=(13151, 13154), match='190'>\n",
      "irst day of spring, 1903, John Hoel positio\n",
      "\n",
      "<re.Match object; span=(14151, 14154), match='190'>\n",
      " again on March 21, 1904, as if he, too, mi\n",
      "\n",
      "<re.Match object; span=(19758, 19761), match='194'>\n",
      "never disappear. By 1940, the fungus takes \n",
      "\n",
      "<re.Match object; span=(22879, 22882), match='196'>\n",
      "er cold of February 1965, the No. 2 Brownie\n",
      "\n",
      "========\n",
      "ch3.xhtml\n",
      "<re.Match object; span=(21, 24), match='194'>\n",
      "MIMI MA\n",
      "\n",
      "THE DAY IN 1948 when Ma Sih Hsuin \n",
      "\n",
      "<re.Match object; span=(1390, 1393), match='191'>\n",
      "ons by typhoon. The 1911 revolution and the\n",
      "\n",
      "<re.Match object; span=(1855, 1858), match='194'>\n",
      " students in all of 1948 to be granted visa\n",
      "\n",
      "<re.Match object; span=(10246, 10249), match='192'>\n",
      "ng down November 7, 1925. In fact, he was b\n",
      "\n",
      "<re.Match object; span=(13532, 13535), match='196'>\n",
      "morning, midsummer, 1967, with Verdi blasti\n",
      "\n",
      "========\n",
      "ch4.xhtml\n",
      "<re.Match object; span=(35, 38), match='196'>\n",
      " A FIVE-YEAR-OLD in 1968 paints a picture. \n",
      "\n",
      "<re.Match object; span=(13168, 13171), match='197'>\n",
      ".\n",
      "THAT’S THE AUTUMN—1976—when Adam falls fo\n",
      "\n",
      "========\n",
      "ch5.xhtml\n",
      "<re.Match object; span=(357, 360), match='197'>\n",
      " downtown St. Paul, 1974.\n",
      "Ray Brinkman, jun\n",
      "\n",
      "========\n",
      "ch6.xhtml\n",
      "<re.Match object; span=(2194, 2197), match='103'>\n",
      "ights-out, Prisoner 1037 gets a little truc\n",
      "\n",
      "<re.Match object; span=(12190, 12193), match='130'>\n",
      ". Loadmaster on a C-130, he balances up pla\n",
      "\n",
      "<re.Match object; span=(29178, 29181), match='100'>\n",
      "his used but solid F100, new tires, a fair \n",
      "\n",
      "========\n",
      "ch7.xhtml\n",
      "<re.Match object; span=(29807, 29810), match='150'>\n",
      " old, six-foot-six, 150 pounds, and fused t\n",
      "\n",
      "========\n",
      "ch8.xhtml\n",
      "<re.Match object; span=(28, 31), match='195'>\n",
      "A WESTERFORD\n",
      "\n",
      " IT’S 1950, and like the boy \n",
      "\n",
      "<re.Match object; span=(18168, 18171), match='184'>\n",
      "f dead people since 1848. Sometimes they fl\n",
      "\n",
      "========\n",
      "ch9.xhtml\n",
      "<re.Match object; span=(4189, 4192), match='198'>\n",
      " Home. December 12, 1989. The Berlin Wall, \n",
      "\n",
      "========\n",
      "ch10.xhtml\n",
      "<re.Match object; span=(11512, 11515), match='199'>\n",
      "ning.\n",
      "IT’S INDIANA, 1990. Here, five years \n",
      "\n",
      "<re.Match object; span=(47270, 47273), match='196'>\n",
      "ng salesman back in 1965. There is, indeed,\n",
      "\n",
      "<re.Match object; span=(47976, 47979), match='198'>\n",
      "ed since Christmas, 1980, except to dust. H\n",
      "\n",
      "<re.Match object; span=(49777, 49780), match='130'>\n",
      "oon has a life list 130 species long. The c\n",
      "\n",
      "<re.Match object; span=(102783, 102786), match='197'>\n",
      "e countdown reaches 1975, he makes a fine b\n",
      "\n",
      "<re.Match object; span=(102972, 102975), match='195'>\n",
      "irst, and labels it 1950.\n",
      "The work goes on,\n",
      "\n",
      "<re.Match object; span=(147039, 147042), match='128'>\n",
      " engineers on Route 128 around Boston, rece\n",
      "\n",
      "<re.Match object; span=(158533, 158536), match='196'>\n",
      " Darley and Latané, 1968.”\n",
      "“But is he okay?\n",
      "\n",
      "<re.Match object; span=(196017, 196020), match='195'>\n",
      " in one pee-stained 1950s sleeping bag and \n",
      "\n",
      "<re.Match object; span=(340428, 340431), match='911'>\n",
      " as well. She calls 911. She rides along in\n",
      "\n",
      "========\n",
      "ch11.xhtml\n",
      "<re.Match object; span=(38903, 38906), match='145'>\n",
      "ASTERY 8, Neelay is 145 pounds and whitish,\n",
      "\n",
      "<re.Match object; span=(46003, 46006), match='198'>\n",
      " Ecological Terror, 1980–1999.”\n",
      "Arrests mus\n",
      "\n",
      "<re.Match object; span=(46008, 46011), match='199'>\n",
      "ogical Terror, 1980–1999.”\n",
      "Arrests must be \n",
      "\n",
      "<re.Match object; span=(76543, 76546), match='120'>\n",
      "campsite as pasture—120 new square miles of\n",
      "\n",
      "<re.Match object; span=(133151, 133154), match='116'>\n",
      "ntains, go to entry 116.”\n",
      "She looks at him.\n",
      "\n",
      "<re.Match object; span=(136292, 136295), match='100'>\n",
      "ting, turn to entry 1001. If you want to br\n",
      "\n",
      "<re.Match object; span=(197742, 197745), match='197'>\n",
      "h America at night, 1970. And here, we are,\n",
      "\n",
      "<re.Match object; span=(201238, 201241), match='160'>\n",
      " exploding fruit at 160 miles per hour. Her\n",
      "\n",
      "========\n",
      "ch12.xhtml\n",
      "<re.Match object; span=(4573, 4576), match='140'>\n",
      "adical Sentenced to 140 Years.” And another\n",
      "\n",
      "<re.Match object; span=(36471, 36474), match='149'>\n",
      "tell you that since 1492.”\n",
      "The man has jerk\n",
      "\n",
      "<re.Match object; span=(38647, 38650), match='101'>\n",
      "ck to school. Psych 101. He who understands\n",
      "\n",
      "========\n",
      "also.xhtml\n",
      "<re.Match object; span=(156, 159), match='199'>\n",
      "e Dark (2000)\n",
      "Gain (1998)\n",
      "Galatea 2.2 (1995\n",
      "\n",
      "<re.Match object; span=(175, 178), match='199'>\n",
      "(1998)\n",
      "Galatea 2.2 (1995)\n",
      "Operation Wanderi\n",
      "\n",
      "<re.Match object; span=(207, 210), match='199'>\n",
      "ion Wandering Soul (1993)\n",
      "The Gold Bug Vari\n",
      "\n",
      "<re.Match object; span=(238, 241), match='199'>\n",
      "old Bug Variations (1991)\n",
      "Prisoner’s Dilemm\n",
      "\n",
      "<re.Match object; span=(264, 267), match='198'>\n",
      "Prisoner’s Dilemma (1988)\n",
      "Three Farmers on \n",
      "\n",
      "<re.Match object; span=(309, 312), match='198'>\n",
      "eir Way to a Dance (1985)\n",
      "\n",
      "\n",
      "========\n",
      "ded.xhtml\n",
      "========\n",
      "epi.xhtml\n",
      "========\n",
      "copy.xhtml\n",
      "<re.Match object; span=(462, 465), match='101'>\n",
      "venue, New York, NY 10110\n",
      "For information a\n",
      "\n",
      "<re.Match object; span=(847, 850), match='195'>\n",
      "s: Powers, Richard, 1957– author.\n",
      "Title: Th\n",
      "\n",
      "<re.Match object; span=(1000, 1003), match='170'>\n",
      "Identifiers: LCCN 2017051173 | ISBN 9780393\n",
      "\n",
      "<re.Match object; span=(1004, 1007), match='117'>\n",
      "tifiers: LCCN 2017051173 | ISBN 97803936355\n",
      "\n",
      "<re.Match object; span=(1016, 1019), match='978'>\n",
      "N 2017051173 | ISBN 9780393635522 (hardcove\n",
      "\n",
      "<re.Match object; span=(1021, 1024), match='936'>\n",
      "7051173 | ISBN 9780393635522 (hardcover)\n",
      "Cl\n",
      "\n",
      "<re.Match object; span=(1147, 1150), match='170'>\n",
      "ps://lccn.loc.gov/2017051173\n",
      "ISBN 978-0-393\n",
      "\n",
      "<re.Match object; span=(1151, 1154), match='117'>\n",
      "/lccn.loc.gov/2017051173\n",
      "ISBN 978-0-393-635\n",
      "\n",
      "<re.Match object; span=(1161, 1164), match='978'>\n",
      "gov/2017051173\n",
      "ISBN 978-0-393-63553-9 (e-bo\n",
      "\n",
      "<re.Match object; span=(1251, 1254), match='101'>\n",
      "nue, New York, N.Y. 10110\n",
      "www.wwnorton.com\n",
      "\n",
      "\n"
     ]
    }
   ],
   "source": [
    "for section, v in d.items():\n",
    "    print(\"========\")\n",
    "    print(section)\n",
    "    text = v['text']\n",
    "    for match in re.finditer(name, text):\n",
    "        print(match)\n",
    "        start = match.start() - 20\n",
    "        end = match.end() + 20\n",
    "\n",
    "        print(text[start:end])\n",
    "        print()"
   ]
  },
  {
   "cell_type": "code",
   "execution_count": null,
   "metadata": {},
   "outputs": [],
   "source": []
  },
  {
   "cell_type": "code",
   "execution_count": null,
   "metadata": {},
   "outputs": [],
   "source": []
  },
  {
   "cell_type": "code",
   "execution_count": null,
   "metadata": {},
   "outputs": [],
   "source": []
  }
 ],
 "metadata": {
  "kernelspec": {
   "display_name": "Python 3",
   "language": "python",
   "name": "python3"
  },
  "language_info": {
   "codemirror_mode": {
    "name": "ipython",
    "version": 3
   },
   "file_extension": ".py",
   "mimetype": "text/x-python",
   "name": "python",
   "nbconvert_exporter": "python",
   "pygments_lexer": "ipython3",
   "version": "3.7.3"
  }
 },
 "nbformat": 4,
 "nbformat_minor": 4
}
