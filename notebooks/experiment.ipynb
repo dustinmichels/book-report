{
 "cells": [
  {
   "cell_type": "code",
   "execution_count": 3,
   "metadata": {},
   "outputs": [],
   "source": [
    "import re\n",
    "\n",
    "import ebooklib\n",
    "from ebooklib import epub\n",
    "import nltk\n",
    "from bs4 import BeautifulSoup"
   ]
  },
  {
   "cell_type": "code",
   "execution_count": 6,
   "metadata": {},
   "outputs": [],
   "source": [
    "import altair as alt\n",
    "from vega_datasets import data"
   ]
  },
  {
   "cell_type": "code",
   "execution_count": 40,
   "metadata": {},
   "outputs": [],
   "source": [
    "book = epub.read_epub('../books/free/Great Expectations - Charles Dickens.epub')\n",
    "items = book.get_items_of_type(ebooklib.ITEM_DOCUMENT)\n",
    "\n",
    "d = {}\n",
    "for item in items:\n",
    "    name = item.get_name()\n",
    "    content = item.get_body_content()\n",
    "    soup = BeautifulSoup(content)\n",
    "    text = soup.get_text()\n",
    "    d[name] = text"
   ]
  },
  {
   "cell_type": "code",
   "execution_count": 41,
   "metadata": {},
   "outputs": [
    {
     "data": {
      "text/plain": [
       "['@public@vhost@g@gutenberg@html@files@1400@1400-h@1400-h-0.htm.html',\n",
       " '@public@vhost@g@gutenberg@html@files@1400@1400-h@1400-h-1.htm.html',\n",
       " '@public@vhost@g@gutenberg@html@files@1400@1400-h@1400-h-2.htm.html',\n",
       " '@public@vhost@g@gutenberg@html@files@1400@1400-h@1400-h-3.htm.html',\n",
       " '@public@vhost@g@gutenberg@html@files@1400@1400-h@1400-h-4.htm.html',\n",
       " '@public@vhost@g@gutenberg@html@files@1400@1400-h@1400-h-5.htm.html',\n",
       " '@public@vhost@g@gutenberg@html@files@1400@1400-h@1400-h-6.htm.html',\n",
       " '@public@vhost@g@gutenberg@html@files@1400@1400-h@1400-h-7.htm.html',\n",
       " '@public@vhost@g@gutenberg@html@files@1400@1400-h@1400-h-8.htm.html',\n",
       " '@public@vhost@g@gutenberg@html@files@1400@1400-h@1400-h-9.htm.html',\n",
       " '@public@vhost@g@gutenberg@html@files@1400@1400-h@1400-h-10.htm.html',\n",
       " '@public@vhost@g@gutenberg@html@files@1400@1400-h@1400-h-11.htm.html',\n",
       " '@public@vhost@g@gutenberg@html@files@1400@1400-h@1400-h-12.htm.html',\n",
       " '@public@vhost@g@gutenberg@html@files@1400@1400-h@1400-h-13.htm.html',\n",
       " '@public@vhost@g@gutenberg@html@files@1400@1400-h@1400-h-14.htm.html',\n",
       " '@public@vhost@g@gutenberg@html@files@1400@1400-h@1400-h-15.htm.html',\n",
       " '@public@vhost@g@gutenberg@html@files@1400@1400-h@1400-h-16.htm.html',\n",
       " '@public@vhost@g@gutenberg@html@files@1400@1400-h@1400-h-17.htm.html',\n",
       " '@public@vhost@g@gutenberg@html@files@1400@1400-h@1400-h-18.htm.html',\n",
       " '@public@vhost@g@gutenberg@html@files@1400@1400-h@1400-h-19.htm.html',\n",
       " '@public@vhost@g@gutenberg@html@files@1400@1400-h@1400-h-20.htm.html']"
      ]
     },
     "execution_count": 41,
     "metadata": {},
     "output_type": "execute_result"
    }
   ],
   "source": [
    "sections = list(d.keys())\n",
    "sections"
   ]
  },
  {
   "cell_type": "code",
   "execution_count": 44,
   "metadata": {},
   "outputs": [
    {
     "data": {
      "text/plain": [
       "'@public@vhost@g@gutenberg@html@files@1400@1400-h@1400-h-2.htm.html'"
      ]
     },
     "execution_count": 44,
     "metadata": {},
     "output_type": "execute_result"
    }
   ],
   "source": [
    "section = sections[2]\n",
    "section"
   ]
  },
  {
   "cell_type": "code",
   "execution_count": 45,
   "metadata": {},
   "outputs": [
    {
     "data": {
      "text/plain": [
       "'\\n\\n\\n\\nChapter VII\\nAt the time when I stood in the churchyard reading the family tombstones, I had just enough learning to be able to spell them out. My construction even of their simple meaning was not '"
      ]
     },
     "execution_count": 45,
     "metadata": {},
     "output_type": "execute_result"
    }
   ],
   "source": [
    "text = d[section]\n",
    "text[:200]"
   ]
  },
  {
   "cell_type": "code",
   "execution_count": null,
   "metadata": {},
   "outputs": [],
   "source": []
  },
  {
   "cell_type": "code",
   "execution_count": 5,
   "metadata": {},
   "outputs": [
    {
     "data": {
      "text/plain": [
       "'THE DAY IN 1948 when Ma Sih Hsuin gets his third-class ticket for a crossing to San Francisco, his father starts addressing him in English'"
      ]
     },
     "execution_count": 5,
     "metadata": {},
     "output_type": "execute_result"
    }
   ],
   "source": [
    "sentence = text.split(\"\\n\\n\")[1].split(\".\")[0]\n",
    "sentence"
   ]
  },
  {
   "cell_type": "code",
   "execution_count": 6,
   "metadata": {},
   "outputs": [],
   "source": [
    "tokens = nltk.word_tokenize(sentence)\n",
    "tagged = nltk.pos_tag(tokens)\n",
    "entities = nltk.chunk.ne_chunk(tagged)"
   ]
  },
  {
   "cell_type": "code",
   "execution_count": 7,
   "metadata": {},
   "outputs": [
    {
     "data": {
      "text/plain": [
       "[('THE', 'DT'), ('DAY', 'NNP'), ('IN', 'NNP'), ('1948', 'CD'), ('when', 'WRB')]"
      ]
     },
     "execution_count": 7,
     "metadata": {},
     "output_type": "execute_result"
    }
   ],
   "source": [
    "tagged[:5]"
   ]
  },
  {
   "cell_type": "code",
   "execution_count": 8,
   "metadata": {},
   "outputs": [
    {
     "name": "stdout",
     "output_type": "stream",
     "text": [
      "NNP: noun, proper, singular\n",
      "    Motown Venneboerger Czestochwa Ranzer Conchita Trumplane Christos\n",
      "    Oceanside Escobar Kreisler Sawyer Cougar Yvette Ervin ODI Darryl CTCA\n",
      "    Shannon A.K.C. Meltex Liverpool ...\n"
     ]
    }
   ],
   "source": [
    " nltk.help.upenn_tagset('NNP')"
   ]
  },
  {
   "cell_type": "code",
   "execution_count": 9,
   "metadata": {},
   "outputs": [
    {
     "data": {
      "text/plain": [
       "[Tree('PERSON', [('Ma', 'NNP'), ('Sih', 'NNP'), ('Hsuin', 'NNP')]),\n",
       " Tree('GPE', [('San', 'NNP'), ('Francisco', 'NNP')]),\n",
       " Tree('GPE', [('English', 'NNP')])]"
      ]
     },
     "execution_count": 9,
     "metadata": {},
     "output_type": "execute_result"
    }
   ],
   "source": [
    "trees = [x for x in entities if type(x) == nltk.tree.Tree]\n",
    "trees"
   ]
  },
  {
   "cell_type": "code",
   "execution_count": 10,
   "metadata": {},
   "outputs": [
    {
     "data": {
      "image/png": "[encoded data removed]",
      "text/plain": [
       "Tree('PERSON', [('Ma', 'NNP'), ('Sih', 'NNP'), ('Hsuin', 'NNP')])"
      ]
     },
     "execution_count": 10,
     "metadata": {},
     "output_type": "execute_result"
    }
   ],
   "source": [
    "t = trees[0]\n",
    "t"
   ]
  },
  {
   "cell_type": "code",
   "execution_count": 11,
   "metadata": {},
   "outputs": [
    {
     "data": {
      "text/plain": [
       "'PERSON'"
      ]
     },
     "execution_count": 11,
     "metadata": {},
     "output_type": "execute_result"
    }
   ],
   "source": [
    "t.label()"
   ]
  },
  {
   "cell_type": "code",
   "execution_count": 12,
   "metadata": {},
   "outputs": [
    {
     "data": {
      "text/plain": [
       "[('Ma', 'NNP'), ('Sih', 'NNP'), ('Hsuin', 'NNP')]"
      ]
     },
     "execution_count": 12,
     "metadata": {},
     "output_type": "execute_result"
    }
   ],
   "source": [
    "t.leaves()"
   ]
  },
  {
   "cell_type": "code",
   "execution_count": 13,
   "metadata": {},
   "outputs": [
    {
     "name": "stdout",
     "output_type": "stream",
     "text": [
      "<re.Match object; span=(31, 33), match='Ma'>\n",
      "HE DAY IN 1948 when Ma Sih Hsuin gets his \n",
      "\n",
      "<re.Match object; span=(564, 566), match='Ma'>\n",
      " be seen. But then, Ma Sih Hsuin is not po\n",
      "\n",
      "<re.Match object; span=(1154, 1156), match='Ma'>\n",
      " we have outlasted. Ma resilience!”\n",
      "Ma Sho\n",
      "\n",
      "<re.Match object; span=(1170, 1172), match='Ma'>\n",
      "ed. Ma resilience!”\n",
      "Ma Shouying gazes out \n",
      "\n",
      "<re.Match object; span=(1247, 1249), match='Ma'>\n",
      " the calamities the Ma Trading Company has\n",
      "\n",
      "<re.Match object; span=(2961, 2963), match='Ma'>\n",
      "ans. They promise.”\n",
      "Ma Shouying crosses ba\n",
      "\n",
      "<re.Match object; span=(3500, 3502), match='Ma'>\n",
      "ain: generations of Ma family profit, from\n",
      "\n",
      "<re.Match object; span=(3574, 3576), match='Ma'>\n",
      " into movable form.\n",
      "Ma Shouying rakes thro\n",
      "\n",
      "<re.Match object; span=(8221, 8223), match='Ma'>\n",
      "cardboard suitcase, Ma Sih Hsuin takes the\n",
      "\n",
      "<re.Match object; span=(9600, 9602), match='Ma'>\n",
      "ame. He’s Sih Hsuin Ma now—his old self tu\n",
      "\n",
      "<re.Match object; span=(9976, 9978), match='Ma'>\n",
      "ver his papers. “Is Ma your Christian or f\n",
      "\n",
      "<re.Match object; span=(12228, 12230), match='Ma'>\n",
      ", Illinois. Winston Ma and his new wife pl\n",
      "\n",
      "<re.Match object; span=(12507, 12509), match='Ma'>\n",
      "k tree on which the Ma family fortune was \n",
      "\n",
      "<re.Match object; span=(13899, 13901), match='Ma'>\n",
      "a Tarleton. Grandpa Ma.”\n",
      "“Who’s Grandpa Ma\n",
      "\n",
      "<re.Match object; span=(13919, 13921), match='Ma'>\n",
      "Ma.”\n",
      "“Who’s Grandpa Ma?”\n",
      "“Chinese Grandpa,\n",
      "\n",
      "<re.Match object; span=(22914, 22916), match='Ma'>\n",
      "onal parks. Winston Ma spends half a year \n",
      "\n",
      "<re.Match object; span=(31346, 31348), match='Ma'>\n",
      "ack in Wheaton, the Ma mulberry is assaile\n",
      "\n",
      "<re.Match object; span=(31942, 31944), match='Ma'>\n",
      "ly phone booth, the Ma garage. His inventi\n",
      "\n",
      "<re.Match object; span=(34129, 34131), match='Ma'>\n",
      "ying Latin, Winston Ma, once Ma Sih Hsuin \n",
      "\n",
      "<re.Match object; span=(34138, 34140), match='Ma'>\n",
      "n, Winston Ma, once Ma Sih Hsuin to everyo\n",
      "\n",
      "<re.Match object; span=(42096, 42098), match='Ma'>\n",
      "memory of Sih Hsuin Ma.” The name sounds h\n",
      "\n",
      "<re.Match object; span=(43414, 43416), match='Ma'>\n",
      "mal, that thing the Ma family always prete\n",
      "\n"
     ]
    }
   ],
   "source": [
    "for match in re.finditer(r\"\\bMa\\b\", text):\n",
    "    print(match)\n",
    "    start = match.start() - 20\n",
    "    end = match.end() + 20\n",
    "    \n",
    "    print(text[start:end])\n",
    "    print()"
   ]
  },
  {
   "cell_type": "code",
   "execution_count": null,
   "metadata": {},
   "outputs": [],
   "source": []
  },
  {
   "cell_type": "code",
   "execution_count": null,
   "metadata": {},
   "outputs": [],
   "source": []
  },
  {
   "cell_type": "code",
   "execution_count": null,
   "metadata": {},
   "outputs": [],
   "source": []
  },
  {
   "cell_type": "code",
   "execution_count": null,
   "metadata": {},
   "outputs": [],
   "source": []
  },
  {
   "cell_type": "code",
   "execution_count": 14,
   "metadata": {},
   "outputs": [],
   "source": [
    "# name = r\"\\bHoel\\b\"\n",
    "# name = r\"\\bMa\\b\"\n",
    "name = r\"[19]\\d\\d\""
   ]
  },
  {
   "cell_type": "code",
   "execution_count": 15,
   "metadata": {},
   "outputs": [
    {
     "name": "stdout",
     "output_type": "stream",
     "text": [
      "========\n",
      "cover.xhtml\n",
      "========\n",
      "toc.xhtml\n",
      "========\n",
      "title.xhtml\n",
      "<re.Match object; span=(92, 95), match='192'>\n",
      "nt Publishers Since 1923\n",
      "NEW YORK   •   LON\n",
      "\n",
      "========\n",
      "ch1.xhtml\n",
      "========\n",
      "ch2.xhtml\n",
      "<re.Match object; span=(13151, 13154), match='190'>\n",
      "irst day of spring, 1903, John Hoel positio\n",
      "\n",
      "<re.Match object; span=(14151, 14154), match='190'>\n",
      " again on March 21, 1904, as if he, too, mi\n",
      "\n",
      "<re.Match object; span=(19758, 19761), match='194'>\n",
      "never disappear. By 1940, the fungus takes \n",
      "\n",
      "<re.Match object; span=(22879, 22882), match='196'>\n",
      "er cold of February 1965, the No. 2 Brownie\n",
      "\n",
      "========\n",
      "ch3.xhtml\n",
      "<re.Match object; span=(21, 24), match='194'>\n",
      "MIMI MA\n",
      "\n",
      "THE DAY IN 1948 when Ma Sih Hsuin \n",
      "\n",
      "<re.Match object; span=(1390, 1393), match='191'>\n",
      "ons by typhoon. The 1911 revolution and the\n",
      "\n",
      "<re.Match object; span=(1855, 1858), match='194'>\n",
      " students in all of 1948 to be granted visa\n",
      "\n",
      "<re.Match object; span=(10246, 10249), match='192'>\n",
      "ng down November 7, 1925. In fact, he was b\n",
      "\n",
      "<re.Match object; span=(13532, 13535), match='196'>\n",
      "morning, midsummer, 1967, with Verdi blasti\n",
      "\n",
      "========\n",
      "ch4.xhtml\n",
      "<re.Match object; span=(35, 38), match='196'>\n",
      " A FIVE-YEAR-OLD in 1968 paints a picture. \n",
      "\n",
      "<re.Match object; span=(13168, 13171), match='197'>\n",
      ".\n",
      "THAT’S THE AUTUMN—1976—when Adam falls fo\n",
      "\n",
      "========\n",
      "ch5.xhtml\n",
      "<re.Match object; span=(357, 360), match='197'>\n",
      " downtown St. Paul, 1974.\n",
      "Ray Brinkman, jun\n",
      "\n",
      "========\n",
      "ch6.xhtml\n",
      "<re.Match object; span=(2194, 2197), match='103'>\n",
      "ights-out, Prisoner 1037 gets a little truc\n",
      "\n",
      "<re.Match object; span=(12190, 12193), match='130'>\n",
      ". Loadmaster on a C-130, he balances up pla\n",
      "\n",
      "<re.Match object; span=(29178, 29181), match='100'>\n",
      "his used but solid F100, new tires, a fair \n",
      "\n",
      "========\n",
      "ch7.xhtml\n",
      "<re.Match object; span=(29807, 29810), match='150'>\n",
      " old, six-foot-six, 150 pounds, and fused t\n",
      "\n",
      "========\n",
      "ch8.xhtml\n",
      "<re.Match object; span=(28, 31), match='195'>\n",
      "A WESTERFORD\n",
      "\n",
      " IT’S 1950, and like the boy \n",
      "\n",
      "<re.Match object; span=(18168, 18171), match='184'>\n",
      "f dead people since 1848. Sometimes they fl\n",
      "\n",
      "========\n",
      "ch9.xhtml\n",
      "<re.Match object; span=(4189, 4192), match='198'>\n",
      " Home. December 12, 1989. The Berlin Wall, \n",
      "\n",
      "========\n",
      "ch10.xhtml\n",
      "<re.Match object; span=(11512, 11515), match='199'>\n",
      "ning.\n",
      "IT’S INDIANA, 1990. Here, five years \n",
      "\n",
      "<re.Match object; span=(47270, 47273), match='196'>\n",
      "ng salesman back in 1965. There is, indeed,\n",
      "\n",
      "<re.Match object; span=(47976, 47979), match='198'>\n",
      "ed since Christmas, 1980, except to dust. H\n",
      "\n",
      "<re.Match object; span=(49777, 49780), match='130'>\n",
      "oon has a life list 130 species long. The c\n",
      "\n",
      "<re.Match object; span=(102783, 102786), match='197'>\n",
      "e countdown reaches 1975, he makes a fine b\n",
      "\n",
      "<re.Match object; span=(102972, 102975), match='195'>\n",
      "irst, and labels it 1950.\n",
      "The work goes on,\n",
      "\n",
      "<re.Match object; span=(147039, 147042), match='128'>\n",
      " engineers on Route 128 around Boston, rece\n",
      "\n",
      "<re.Match object; span=(158533, 158536), match='196'>\n",
      " Darley and Latané, 1968.”\n",
      "“But is he okay?\n",
      "\n",
      "<re.Match object; span=(196017, 196020), match='195'>\n",
      " in one pee-stained 1950s sleeping bag and \n",
      "\n",
      "<re.Match object; span=(340428, 340431), match='911'>\n",
      " as well. She calls 911. She rides along in\n",
      "\n",
      "========\n",
      "ch11.xhtml\n",
      "<re.Match object; span=(38903, 38906), match='145'>\n",
      "ASTERY 8, Neelay is 145 pounds and whitish,\n",
      "\n",
      "<re.Match object; span=(46003, 46006), match='198'>\n",
      " Ecological Terror, 1980–1999.”\n",
      "Arrests mus\n",
      "\n",
      "<re.Match object; span=(46008, 46011), match='199'>\n",
      "ogical Terror, 1980–1999.”\n",
      "Arrests must be \n",
      "\n",
      "<re.Match object; span=(76543, 76546), match='120'>\n",
      "campsite as pasture—120 new square miles of\n",
      "\n",
      "<re.Match object; span=(133151, 133154), match='116'>\n",
      "ntains, go to entry 116.”\n",
      "She looks at him.\n",
      "\n",
      "<re.Match object; span=(136292, 136295), match='100'>\n",
      "ting, turn to entry 1001. If you want to br\n",
      "\n",
      "<re.Match object; span=(197742, 197745), match='197'>\n",
      "h America at night, 1970. And here, we are,\n",
      "\n",
      "<re.Match object; span=(201238, 201241), match='160'>\n",
      " exploding fruit at 160 miles per hour. Her\n",
      "\n",
      "========\n",
      "ch12.xhtml\n",
      "<re.Match object; span=(4573, 4576), match='140'>\n",
      "adical Sentenced to 140 Years.” And another\n",
      "\n",
      "<re.Match object; span=(36471, 36474), match='149'>\n",
      "tell you that since 1492.”\n",
      "The man has jerk\n",
      "\n",
      "<re.Match object; span=(38647, 38650), match='101'>\n",
      "ck to school. Psych 101. He who understands\n",
      "\n",
      "========\n",
      "also.xhtml\n",
      "<re.Match object; span=(156, 159), match='199'>\n",
      "e Dark (2000)\n",
      "Gain (1998)\n",
      "Galatea 2.2 (1995\n",
      "\n",
      "<re.Match object; span=(175, 178), match='199'>\n",
      "(1998)\n",
      "Galatea 2.2 (1995)\n",
      "Operation Wanderi\n",
      "\n",
      "<re.Match object; span=(207, 210), match='199'>\n",
      "ion Wandering Soul (1993)\n",
      "The Gold Bug Vari\n",
      "\n",
      "<re.Match object; span=(238, 241), match='199'>\n",
      "old Bug Variations (1991)\n",
      "Prisoner’s Dilemm\n",
      "\n",
      "<re.Match object; span=(264, 267), match='198'>\n",
      "Prisoner’s Dilemma (1988)\n",
      "Three Farmers on \n",
      "\n",
      "<re.Match object; span=(309, 312), match='198'>\n",
      "eir Way to a Dance (1985)\n",
      "\n",
      "\n",
      "========\n",
      "ded.xhtml\n",
      "========\n",
      "epi.xhtml\n",
      "========\n",
      "copy.xhtml\n",
      "<re.Match object; span=(462, 465), match='101'>\n",
      "venue, New York, NY 10110\n",
      "For information a\n",
      "\n",
      "<re.Match object; span=(847, 850), match='195'>\n",
      "s: Powers, Richard, 1957– author.\n",
      "Title: Th\n",
      "\n",
      "<re.Match object; span=(1000, 1003), match='170'>\n",
      "Identifiers: LCCN 2017051173 | ISBN 9780393\n",
      "\n",
      "<re.Match object; span=(1004, 1007), match='117'>\n",
      "tifiers: LCCN 2017051173 | ISBN 97803936355\n",
      "\n",
      "<re.Match object; span=(1016, 1019), match='978'>\n",
      "N 2017051173 | ISBN 9780393635522 (hardcove\n",
      "\n",
      "<re.Match object; span=(1021, 1024), match='936'>\n",
      "7051173 | ISBN 9780393635522 (hardcover)\n",
      "Cl\n",
      "\n",
      "<re.Match object; span=(1147, 1150), match='170'>\n",
      "ps://lccn.loc.gov/2017051173\n",
      "ISBN 978-0-393\n",
      "\n",
      "<re.Match object; span=(1151, 1154), match='117'>\n",
      "/lccn.loc.gov/2017051173\n",
      "ISBN 978-0-393-635\n",
      "\n",
      "<re.Match object; span=(1161, 1164), match='978'>\n",
      "gov/2017051173\n",
      "ISBN 978-0-393-63553-9 (e-bo\n",
      "\n",
      "<re.Match object; span=(1251, 1254), match='101'>\n",
      "nue, New York, N.Y. 10110\n",
      "www.wwnorton.com\n",
      "\n",
      "\n"
     ]
    }
   ],
   "source": [
    "for section in d.keys():\n",
    "    print(\"========\")\n",
    "    print(section)\n",
    "    \n",
    "    c = d[section]\n",
    "    soup = BeautifulSoup(c)\n",
    "    text = soup.get_text()\n",
    "\n",
    "    for match in re.finditer(name, text):\n",
    "        print(match)\n",
    "        start = match.start() - 20\n",
    "        end = match.end() + 20\n",
    "\n",
    "        print(text[start:end])\n",
    "        print()"
   ]
  },
  {
   "cell_type": "code",
   "execution_count": null,
   "metadata": {},
   "outputs": [],
   "source": []
  },
  {
   "cell_type": "code",
   "execution_count": null,
   "metadata": {},
   "outputs": [],
   "source": []
  },
  {
   "cell_type": "code",
   "execution_count": 16,
   "metadata": {},
   "outputs": [
    {
     "data": {
      "application/vnd.vegalite.v3+json": {
       "$schema": "https://vega.github.io/schema/vega-lite/v3.3.0.json",
       "config": {
        "mark": {
         "tooltip": null
        },
        "view": {
         "height": 300,
         "width": 400
        }
       },
       "data": {
        "name": "data-a264acbd6e539a8b3afc0cb5f240fb57"
       },
       "datasets": {
        "data-a264acbd6e539a8b3afc0cb5f240fb57": [
         {
          "petalLength": 1.4,
          "petalWidth": 0.2,
          "sepalLength": 5.1,
          "sepalWidth": 3.5,
          "species": "setosa"
         },
         {
          "petalLength": 1.4,
          "petalWidth": 0.2,
          "sepalLength": 4.9,
          "sepalWidth": 3,
          "species": "setosa"
         },
         {
          "petalLength": 1.3,
          "petalWidth": 0.2,
          "sepalLength": 4.7,
          "sepalWidth": 3.2,
          "species": "setosa"
         },
         {
          "petalLength": 1.5,
          "petalWidth": 0.2,
          "sepalLength": 4.6,
          "sepalWidth": 3.1,
          "species": "setosa"
         },
         {
          "petalLength": 1.4,
          "petalWidth": 0.2,
          "sepalLength": 5,
          "sepalWidth": 3.6,
          "species": "setosa"
         },
         {
          "petalLength": 1.7000000000000002,
          "petalWidth": 0.4,
          "sepalLength": 5.4,
          "sepalWidth": 3.9,
          "species": "setosa"
         },
         {
          "petalLength": 1.4,
          "petalWidth": 0.30000000000000004,
          "sepalLength": 4.6,
          "sepalWidth": 3.4,
          "species": "setosa"
         },
         {
          "petalLength": 1.5,
          "petalWidth": 0.2,
          "sepalLength": 5,
          "sepalWidth": 3.4,
          "species": "setosa"
         },
         {
          "petalLength": 1.4,
          "petalWidth": 0.2,
          "sepalLength": 4.4,
          "sepalWidth": 2.9,
          "species": "setosa"
         },
         {
          "petalLength": 1.5,
          "petalWidth": 0.1,
          "sepalLength": 4.9,
          "sepalWidth": 3.1,
          "species": "setosa"
         },
         {
          "petalLength": 1.5,
          "petalWidth": 0.2,
          "sepalLength": 5.4,
          "sepalWidth": 3.7,
          "species": "setosa"
         },
         {
          "petalLength": 1.6,
          "petalWidth": 0.2,
          "sepalLength": 4.8,
          "sepalWidth": 3.4,
          "species": "setosa"
         },
         {
          "petalLength": 1.4,
          "petalWidth": 0.1,
          "sepalLength": 4.8,
          "sepalWidth": 3,
          "species": "setosa"
         },
         {
          "petalLength": 1.1,
          "petalWidth": 0.1,
          "sepalLength": 4.3,
          "sepalWidth": 3,
          "species": "setosa"
         },
         {
          "petalLength": 1.2,
          "petalWidth": 0.2,
          "sepalLength": 5.8,
          "sepalWidth": 4,
          "species": "setosa"
         },
         {
          "petalLength": 1.5,
          "petalWidth": 0.4,
          "sepalLength": 5.7,
          "sepalWidth": 4.4,
          "species": "setosa"
         },
         {
          "petalLength": 1.3,
          "petalWidth": 0.4,
          "sepalLength": 5.4,
          "sepalWidth": 3.9,
          "species": "setosa"
         },
         {
          "petalLength": 1.4,
          "petalWidth": 0.30000000000000004,
          "sepalLength": 5.1,
          "sepalWidth": 3.5,
          "species": "setosa"
         },
         {
          "petalLength": 1.7000000000000002,
          "petalWidth": 0.30000000000000004,
          "sepalLength": 5.7,
          "sepalWidth": 3.8,
          "species": "setosa"
         },
         {
          "petalLength": 1.5,
          "petalWidth": 0.30000000000000004,
          "sepalLength": 5.1,
          "sepalWidth": 3.8,
          "species": "setosa"
         },
         {
          "petalLength": 1.7000000000000002,
          "petalWidth": 0.2,
          "sepalLength": 5.4,
          "sepalWidth": 3.4,
          "species": "setosa"
         },
         {
          "petalLength": 1.5,
          "petalWidth": 0.4,
          "sepalLength": 5.1,
          "sepalWidth": 3.7,
          "species": "setosa"
         },
         {
          "petalLength": 1,
          "petalWidth": 0.2,
          "sepalLength": 4.6,
          "sepalWidth": 3.6,
          "species": "setosa"
         },
         {
          "petalLength": 1.7000000000000002,
          "petalWidth": 0.5,
          "sepalLength": 5.1,
          "sepalWidth": 3.3,
          "species": "setosa"
         },
         {
          "petalLength": 1.9,
          "petalWidth": 0.2,
          "sepalLength": 4.8,
          "sepalWidth": 3.4,
          "species": "setosa"
         },
         {
          "petalLength": 1.6,
          "petalWidth": 0.2,
          "sepalLength": 5,
          "sepalWidth": 3,
          "species": "setosa"
         },
         {
          "petalLength": 1.6,
          "petalWidth": 0.4,
          "sepalLength": 5,
          "sepalWidth": 3.4,
          "species": "setosa"
         },
         {
          "petalLength": 1.5,
          "petalWidth": 0.2,
          "sepalLength": 5.2,
          "sepalWidth": 3.5,
          "species": "setosa"
         },
         {
          "petalLength": 1.4,
          "petalWidth": 0.2,
          "sepalLength": 5.2,
          "sepalWidth": 3.4,
          "species": "setosa"
         },
         {
          "petalLength": 1.6,
          "petalWidth": 0.2,
          "sepalLength": 4.7,
          "sepalWidth": 3.2,
          "species": "setosa"
         },
         {
          "petalLength": 1.6,
          "petalWidth": 0.2,
          "sepalLength": 4.8,
          "sepalWidth": 3.1,
          "species": "setosa"
         },
         {
          "petalLength": 1.5,
          "petalWidth": 0.4,
          "sepalLength": 5.4,
          "sepalWidth": 3.4,
          "species": "setosa"
         },
         {
          "petalLength": 1.5,
          "petalWidth": 0.1,
          "sepalLength": 5.2,
          "sepalWidth": 4.1,
          "species": "setosa"
         },
         {
          "petalLength": 1.4,
          "petalWidth": 0.2,
          "sepalLength": 5.5,
          "sepalWidth": 4.2,
          "species": "setosa"
         },
         {
          "petalLength": 1.5,
          "petalWidth": 0.2,
          "sepalLength": 4.9,
          "sepalWidth": 3.1,
          "species": "setosa"
         },
         {
          "petalLength": 1.2,
          "petalWidth": 0.2,
          "sepalLength": 5,
          "sepalWidth": 3.2,
          "species": "setosa"
         },
         {
          "petalLength": 1.3,
          "petalWidth": 0.2,
          "sepalLength": 5.5,
          "sepalWidth": 3.5,
          "species": "setosa"
         },
         {
          "petalLength": 1.4,
          "petalWidth": 0.1,
          "sepalLength": 4.9,
          "sepalWidth": 3.6,
          "species": "setosa"
         },
         {
          "petalLength": 1.3,
          "petalWidth": 0.2,
          "sepalLength": 4.4,
          "sepalWidth": 3,
          "species": "setosa"
         },
         {
          "petalLength": 1.5,
          "petalWidth": 0.2,
          "sepalLength": 5.1,
          "sepalWidth": 3.4,
          "species": "setosa"
         },
         {
          "petalLength": 1.3,
          "petalWidth": 0.30000000000000004,
          "sepalLength": 5,
          "sepalWidth": 3.5,
          "species": "setosa"
         },
         {
          "petalLength": 1.3,
          "petalWidth": 0.30000000000000004,
          "sepalLength": 4.5,
          "sepalWidth": 2.3,
          "species": "setosa"
         },
         {
          "petalLength": 1.3,
          "petalWidth": 0.2,
          "sepalLength": 4.4,
          "sepalWidth": 3.2,
          "species": "setosa"
         },
         {
          "petalLength": 1.6,
          "petalWidth": 0.6000000000000001,
          "sepalLength": 5,
          "sepalWidth": 3.5,
          "species": "setosa"
         },
         {
          "petalLength": 1.9,
          "petalWidth": 0.4,
          "sepalLength": 5.1,
          "sepalWidth": 3.8,
          "species": "setosa"
         },
         {
          "petalLength": 1.4,
          "petalWidth": 0.30000000000000004,
          "sepalLength": 4.8,
          "sepalWidth": 3,
          "species": "setosa"
         },
         {
          "petalLength": 1.6,
          "petalWidth": 0.2,
          "sepalLength": 5.1,
          "sepalWidth": 3.8,
          "species": "setosa"
         },
         {
          "petalLength": 1.4,
          "petalWidth": 0.2,
          "sepalLength": 4.6,
          "sepalWidth": 3.2,
          "species": "setosa"
         },
         {
          "petalLength": 1.5,
          "petalWidth": 0.2,
          "sepalLength": 5.3,
          "sepalWidth": 3.7,
          "species": "setosa"
         },
         {
          "petalLength": 1.4,
          "petalWidth": 0.2,
          "sepalLength": 5,
          "sepalWidth": 3.3,
          "species": "setosa"
         },
         {
          "petalLength": 4.7,
          "petalWidth": 1.4,
          "sepalLength": 7,
          "sepalWidth": 3.2,
          "species": "versicolor"
         },
         {
          "petalLength": 4.5,
          "petalWidth": 1.5,
          "sepalLength": 6.4,
          "sepalWidth": 3.2,
          "species": "versicolor"
         },
         {
          "petalLength": 4.9,
          "petalWidth": 1.5,
          "sepalLength": 6.9,
          "sepalWidth": 3.1,
          "species": "versicolor"
         },
         {
          "petalLength": 4,
          "petalWidth": 1.3,
          "sepalLength": 5.5,
          "sepalWidth": 2.3,
          "species": "versicolor"
         },
         {
          "petalLength": 4.6,
          "petalWidth": 1.5,
          "sepalLength": 6.5,
          "sepalWidth": 2.8,
          "species": "versicolor"
         },
         {
          "petalLength": 4.5,
          "petalWidth": 1.3,
          "sepalLength": 5.7,
          "sepalWidth": 2.8,
          "species": "versicolor"
         },
         {
          "petalLength": 4.7,
          "petalWidth": 1.6,
          "sepalLength": 6.3,
          "sepalWidth": 3.3,
          "species": "versicolor"
         },
         {
          "petalLength": 3.3,
          "petalWidth": 1,
          "sepalLength": 4.9,
          "sepalWidth": 2.4,
          "species": "versicolor"
         },
         {
          "petalLength": 4.6,
          "petalWidth": 1.3,
          "sepalLength": 6.6,
          "sepalWidth": 2.9,
          "species": "versicolor"
         },
         {
          "petalLength": 3.9,
          "petalWidth": 1.4,
          "sepalLength": 5.2,
          "sepalWidth": 2.7,
          "species": "versicolor"
         },
         {
          "petalLength": 3.5,
          "petalWidth": 1,
          "sepalLength": 5,
          "sepalWidth": 2,
          "species": "versicolor"
         },
         {
          "petalLength": 4.2,
          "petalWidth": 1.5,
          "sepalLength": 5.9,
          "sepalWidth": 3,
          "species": "versicolor"
         },
         {
          "petalLength": 4,
          "petalWidth": 1,
          "sepalLength": 6,
          "sepalWidth": 2.2,
          "species": "versicolor"
         },
         {
          "petalLength": 4.7,
          "petalWidth": 1.4,
          "sepalLength": 6.1,
          "sepalWidth": 2.9,
          "species": "versicolor"
         },
         {
          "petalLength": 3.6,
          "petalWidth": 1.3,
          "sepalLength": 5.6,
          "sepalWidth": 2.9,
          "species": "versicolor"
         },
         {
          "petalLength": 4.4,
          "petalWidth": 1.4,
          "sepalLength": 6.7,
          "sepalWidth": 3.1,
          "species": "versicolor"
         },
         {
          "petalLength": 4.5,
          "petalWidth": 1.5,
          "sepalLength": 5.6,
          "sepalWidth": 3,
          "species": "versicolor"
         },
         {
          "petalLength": 4.1,
          "petalWidth": 1,
          "sepalLength": 5.8,
          "sepalWidth": 2.7,
          "species": "versicolor"
         },
         {
          "petalLength": 4.5,
          "petalWidth": 1.5,
          "sepalLength": 6.2,
          "sepalWidth": 2.2,
          "species": "versicolor"
         },
         {
          "petalLength": 3.9,
          "petalWidth": 1.1,
          "sepalLength": 5.6,
          "sepalWidth": 2.5,
          "species": "versicolor"
         },
         {
          "petalLength": 4.8,
          "petalWidth": 1.8,
          "sepalLength": 5.9,
          "sepalWidth": 3.2,
          "species": "versicolor"
         },
         {
          "petalLength": 4,
          "petalWidth": 1.3,
          "sepalLength": 6.1,
          "sepalWidth": 2.8,
          "species": "versicolor"
         },
         {
          "petalLength": 4.9,
          "petalWidth": 1.5,
          "sepalLength": 6.3,
          "sepalWidth": 2.5,
          "species": "versicolor"
         },
         {
          "petalLength": 4.7,
          "petalWidth": 1.2,
          "sepalLength": 6.1,
          "sepalWidth": 2.8,
          "species": "versicolor"
         },
         {
          "petalLength": 4.3,
          "petalWidth": 1.3,
          "sepalLength": 6.4,
          "sepalWidth": 2.9,
          "species": "versicolor"
         },
         {
          "petalLength": 4.4,
          "petalWidth": 1.4,
          "sepalLength": 6.6,
          "sepalWidth": 3,
          "species": "versicolor"
         },
         {
          "petalLength": 4.8,
          "petalWidth": 1.4,
          "sepalLength": 6.8,
          "sepalWidth": 2.8,
          "species": "versicolor"
         },
         {
          "petalLength": 5,
          "petalWidth": 1.7000000000000002,
          "sepalLength": 6.7,
          "sepalWidth": 3,
          "species": "versicolor"
         },
         {
          "petalLength": 4.5,
          "petalWidth": 1.5,
          "sepalLength": 6,
          "sepalWidth": 2.9,
          "species": "versicolor"
         },
         {
          "petalLength": 3.5,
          "petalWidth": 1,
          "sepalLength": 5.7,
          "sepalWidth": 2.6,
          "species": "versicolor"
         },
         {
          "petalLength": 3.8,
          "petalWidth": 1.1,
          "sepalLength": 5.5,
          "sepalWidth": 2.4,
          "species": "versicolor"
         },
         {
          "petalLength": 3.7,
          "petalWidth": 1,
          "sepalLength": 5.5,
          "sepalWidth": 2.4,
          "species": "versicolor"
         },
         {
          "petalLength": 3.9,
          "petalWidth": 1.2,
          "sepalLength": 5.8,
          "sepalWidth": 2.7,
          "species": "versicolor"
         },
         {
          "petalLength": 5.1,
          "petalWidth": 1.6,
          "sepalLength": 6,
          "sepalWidth": 2.7,
          "species": "versicolor"
         },
         {
          "petalLength": 4.5,
          "petalWidth": 1.5,
          "sepalLength": 5.4,
          "sepalWidth": 3,
          "species": "versicolor"
         },
         {
          "petalLength": 4.5,
          "petalWidth": 1.6,
          "sepalLength": 6,
          "sepalWidth": 3.4,
          "species": "versicolor"
         },
         {
          "petalLength": 4.7,
          "petalWidth": 1.5,
          "sepalLength": 6.7,
          "sepalWidth": 3.1,
          "species": "versicolor"
         },
         {
          "petalLength": 4.4,
          "petalWidth": 1.3,
          "sepalLength": 6.3,
          "sepalWidth": 2.3,
          "species": "versicolor"
         },
         {
          "petalLength": 4.1,
          "petalWidth": 1.3,
          "sepalLength": 5.6,
          "sepalWidth": 3,
          "species": "versicolor"
         },
         {
          "petalLength": 4,
          "petalWidth": 1.3,
          "sepalLength": 5.5,
          "sepalWidth": 2.5,
          "species": "versicolor"
         },
         {
          "petalLength": 4.4,
          "petalWidth": 1.2,
          "sepalLength": 5.5,
          "sepalWidth": 2.6,
          "species": "versicolor"
         },
         {
          "petalLength": 4.6,
          "petalWidth": 1.4,
          "sepalLength": 6.1,
          "sepalWidth": 3,
          "species": "versicolor"
         },
         {
          "petalLength": 4,
          "petalWidth": 1.2,
          "sepalLength": 5.8,
          "sepalWidth": 2.6,
          "species": "versicolor"
         },
         {
          "petalLength": 3.3,
          "petalWidth": 1,
          "sepalLength": 5,
          "sepalWidth": 2.3,
          "species": "versicolor"
         },
         {
          "petalLength": 4.2,
          "petalWidth": 1.3,
          "sepalLength": 5.6,
          "sepalWidth": 2.7,
          "species": "versicolor"
         },
         {
          "petalLength": 4.2,
          "petalWidth": 1.2,
          "sepalLength": 5.7,
          "sepalWidth": 3,
          "species": "versicolor"
         },
         {
          "petalLength": 4.2,
          "petalWidth": 1.3,
          "sepalLength": 5.7,
          "sepalWidth": 2.9,
          "species": "versicolor"
         },
         {
          "petalLength": 4.3,
          "petalWidth": 1.3,
          "sepalLength": 6.2,
          "sepalWidth": 2.9,
          "species": "versicolor"
         },
         {
          "petalLength": 3,
          "petalWidth": 1.1,
          "sepalLength": 5.1,
          "sepalWidth": 2.5,
          "species": "versicolor"
         },
         {
          "petalLength": 4.1,
          "petalWidth": 1.3,
          "sepalLength": 5.7,
          "sepalWidth": 2.8,
          "species": "versicolor"
         },
         {
          "petalLength": 6,
          "petalWidth": 2.5,
          "sepalLength": 6.3,
          "sepalWidth": 3.3,
          "species": "virginica"
         },
         {
          "petalLength": 5.1,
          "petalWidth": 1.9,
          "sepalLength": 5.8,
          "sepalWidth": 2.7,
          "species": "virginica"
         },
         {
          "petalLength": 5.9,
          "petalWidth": 2.1,
          "sepalLength": 7.1,
          "sepalWidth": 3,
          "species": "virginica"
         },
         {
          "petalLength": 5.6,
          "petalWidth": 1.8,
          "sepalLength": 6.3,
          "sepalWidth": 2.9,
          "species": "virginica"
         },
         {
          "petalLength": 5.8,
          "petalWidth": 2.2,
          "sepalLength": 6.5,
          "sepalWidth": 3,
          "species": "virginica"
         },
         {
          "petalLength": 6.6,
          "petalWidth": 2.1,
          "sepalLength": 7.6,
          "sepalWidth": 3,
          "species": "virginica"
         },
         {
          "petalLength": 4.5,
          "petalWidth": 1.7000000000000002,
          "sepalLength": 4.9,
          "sepalWidth": 2.5,
          "species": "virginica"
         },
         {
          "petalLength": 6.3,
          "petalWidth": 1.8,
          "sepalLength": 7.3,
          "sepalWidth": 2.9,
          "species": "virginica"
         },
         {
          "petalLength": 5.8,
          "petalWidth": 1.8,
          "sepalLength": 6.7,
          "sepalWidth": 2.5,
          "species": "virginica"
         },
         {
          "petalLength": 6.1,
          "petalWidth": 2.5,
          "sepalLength": 7.2,
          "sepalWidth": 3.6,
          "species": "virginica"
         },
         {
          "petalLength": 5.1,
          "petalWidth": 2,
          "sepalLength": 6.5,
          "sepalWidth": 3.2,
          "species": "virginica"
         },
         {
          "petalLength": 5.3,
          "petalWidth": 1.9,
          "sepalLength": 6.4,
          "sepalWidth": 2.7,
          "species": "virginica"
         },
         {
          "petalLength": 5.5,
          "petalWidth": 2.1,
          "sepalLength": 6.8,
          "sepalWidth": 3,
          "species": "virginica"
         },
         {
          "petalLength": 5,
          "petalWidth": 2,
          "sepalLength": 5.7,
          "sepalWidth": 2.5,
          "species": "virginica"
         },
         {
          "petalLength": 5.1,
          "petalWidth": 2.4,
          "sepalLength": 5.8,
          "sepalWidth": 2.8,
          "species": "virginica"
         },
         {
          "petalLength": 5.3,
          "petalWidth": 2.3,
          "sepalLength": 6.4,
          "sepalWidth": 3.2,
          "species": "virginica"
         },
         {
          "petalLength": 5.5,
          "petalWidth": 1.8,
          "sepalLength": 6.5,
          "sepalWidth": 3,
          "species": "virginica"
         },
         {
          "petalLength": 6.7,
          "petalWidth": 2.2,
          "sepalLength": 7.7,
          "sepalWidth": 3.8,
          "species": "virginica"
         },
         {
          "petalLength": 6.9,
          "petalWidth": 2.3,
          "sepalLength": 7.7,
          "sepalWidth": 2.6,
          "species": "virginica"
         },
         {
          "petalLength": 5,
          "petalWidth": 1.5,
          "sepalLength": 6,
          "sepalWidth": 2.2,
          "species": "virginica"
         },
         {
          "petalLength": 5.7,
          "petalWidth": 2.3,
          "sepalLength": 6.9,
          "sepalWidth": 3.2,
          "species": "virginica"
         },
         {
          "petalLength": 4.9,
          "petalWidth": 2,
          "sepalLength": 5.6,
          "sepalWidth": 2.8,
          "species": "virginica"
         },
         {
          "petalLength": 6.7,
          "petalWidth": 2,
          "sepalLength": 7.7,
          "sepalWidth": 2.8,
          "species": "virginica"
         },
         {
          "petalLength": 4.9,
          "petalWidth": 1.8,
          "sepalLength": 6.3,
          "sepalWidth": 2.7,
          "species": "virginica"
         },
         {
          "petalLength": 5.7,
          "petalWidth": 2.1,
          "sepalLength": 6.7,
          "sepalWidth": 3.3,
          "species": "virginica"
         },
         {
          "petalLength": 6,
          "petalWidth": 1.8,
          "sepalLength": 7.2,
          "sepalWidth": 3.2,
          "species": "virginica"
         },
         {
          "petalLength": 4.8,
          "petalWidth": 1.8,
          "sepalLength": 6.2,
          "sepalWidth": 2.8,
          "species": "virginica"
         },
         {
          "petalLength": 4.9,
          "petalWidth": 1.8,
          "sepalLength": 6.1,
          "sepalWidth": 3,
          "species": "virginica"
         },
         {
          "petalLength": 5.6,
          "petalWidth": 2.1,
          "sepalLength": 6.4,
          "sepalWidth": 2.8,
          "species": "virginica"
         },
         {
          "petalLength": 5.8,
          "petalWidth": 1.6,
          "sepalLength": 7.2,
          "sepalWidth": 3,
          "species": "virginica"
         },
         {
          "petalLength": 6.1,
          "petalWidth": 1.9,
          "sepalLength": 7.4,
          "sepalWidth": 2.8,
          "species": "virginica"
         },
         {
          "petalLength": 6.4,
          "petalWidth": 2,
          "sepalLength": 7.9,
          "sepalWidth": 3.8,
          "species": "virginica"
         },
         {
          "petalLength": 5.6,
          "petalWidth": 2.2,
          "sepalLength": 6.4,
          "sepalWidth": 2.8,
          "species": "virginica"
         },
         {
          "petalLength": 5.1,
          "petalWidth": 1.5,
          "sepalLength": 6.3,
          "sepalWidth": 2.8,
          "species": "virginica"
         },
         {
          "petalLength": 5.6,
          "petalWidth": 1.4,
          "sepalLength": 6.1,
          "sepalWidth": 2.6,
          "species": "virginica"
         },
         {
          "petalLength": 6.1,
          "petalWidth": 2.3,
          "sepalLength": 7.7,
          "sepalWidth": 3,
          "species": "virginica"
         },
         {
          "petalLength": 5.6,
          "petalWidth": 2.4,
          "sepalLength": 6.3,
          "sepalWidth": 3.4,
          "species": "virginica"
         },
         {
          "petalLength": 5.5,
          "petalWidth": 1.8,
          "sepalLength": 6.4,
          "sepalWidth": 3.1,
          "species": "virginica"
         },
         {
          "petalLength": 4.8,
          "petalWidth": 1.8,
          "sepalLength": 6,
          "sepalWidth": 3,
          "species": "virginica"
         },
         {
          "petalLength": 5.4,
          "petalWidth": 2.1,
          "sepalLength": 6.9,
          "sepalWidth": 3.1,
          "species": "virginica"
         },
         {
          "petalLength": 5.6,
          "petalWidth": 2.4,
          "sepalLength": 6.7,
          "sepalWidth": 3.1,
          "species": "virginica"
         },
         {
          "petalLength": 5.1,
          "petalWidth": 2.3,
          "sepalLength": 6.9,
          "sepalWidth": 3.1,
          "species": "virginica"
         },
         {
          "petalLength": 5.1,
          "petalWidth": 1.9,
          "sepalLength": 5.8,
          "sepalWidth": 2.7,
          "species": "virginica"
         },
         {
          "petalLength": 5.9,
          "petalWidth": 2.3,
          "sepalLength": 6.8,
          "sepalWidth": 3.2,
          "species": "virginica"
         },
         {
          "petalLength": 5.7,
          "petalWidth": 2.5,
          "sepalLength": 6.7,
          "sepalWidth": 3.3,
          "species": "virginica"
         },
         {
          "petalLength": 5.2,
          "petalWidth": 2.3,
          "sepalLength": 6.7,
          "sepalWidth": 3,
          "species": "virginica"
         },
         {
          "petalLength": 5,
          "petalWidth": 1.9,
          "sepalLength": 6.3,
          "sepalWidth": 2.5,
          "species": "virginica"
         },
         {
          "petalLength": 5.2,
          "petalWidth": 2,
          "sepalLength": 6.5,
          "sepalWidth": 3,
          "species": "virginica"
         },
         {
          "petalLength": 5.4,
          "petalWidth": 2.3,
          "sepalLength": 6.2,
          "sepalWidth": 3.4,
          "species": "virginica"
         },
         {
          "petalLength": 5.1,
          "petalWidth": 1.8,
          "sepalLength": 5.9,
          "sepalWidth": 3,
          "species": "virginica"
         }
        ]
       },
       "encoding": {
        "color": {
         "field": "species",
         "type": "nominal"
        },
        "x": {
         "field": "petalLength",
         "type": "quantitative"
        },
        "y": {
         "field": "petalWidth",
         "type": "quantitative"
        }
       },
       "mark": "point"
      },
      "image/png": "[encoded data removed]",
      "text/plain": [
       "<VegaLite 3 object>\n",
       "\n",
       "If you see this message, it means the renderer has not been properly enabled\n",
       "for the frontend that you are using. For more information, see\n",
       "https://altair-viz.github.io/user_guide/troubleshooting.html\n"
      ]
     },
     "execution_count": 16,
     "metadata": {},
     "output_type": "execute_result"
    }
   ],
   "source": [
    "import altair as alt\n",
    "from vega_datasets import data\n",
    "\n",
    "iris = data.iris()\n",
    "\n",
    "alt.Chart(iris).mark_point().encode(\n",
    "    x='petalLength',\n",
    "    y='petalWidth',\n",
    "    color='species'\n",
    ")"
   ]
  },
  {
   "cell_type": "code",
   "execution_count": null,
   "metadata": {},
   "outputs": [],
   "source": []
  }
 ],
 "metadata": {
  "kernelspec": {
   "display_name": "Python 3",
   "language": "python",
   "name": "python3"
  },
  "language_info": {
   "codemirror_mode": {
    "name": "ipython",
    "version": 3
   },
   "file_extension": ".py",
   "mimetype": "text/x-python",
   "name": "python",
   "nbconvert_exporter": "python",
   "pygments_lexer": "ipython3",
   "version": "3.7.3"
  }
 },
 "nbformat": 4,
 "nbformat_minor": 4
}
