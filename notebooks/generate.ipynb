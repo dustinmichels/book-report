{
 "cells": [
  {
   "cell_type": "code",
   "execution_count": 1,
   "metadata": {},
   "outputs": [],
   "source": [
    "import re\n",
    "from IPython.display import display, Markdown\n",
    "\n",
    "import ebooklib\n",
    "from ebooklib import epub\n",
    "import nltk\n",
    "from bs4 import BeautifulSoup\n",
    "import altair as alt\n",
    "import pandas as pd"
   ]
  },
  {
   "cell_type": "code",
   "execution_count": 2,
   "metadata": {},
   "outputs": [
    {
     "data": {
      "text/plain": [
       "'../books/unfree/The Overstory - Richard Powers.epub'"
      ]
     },
     "execution_count": 2,
     "metadata": {},
     "output_type": "execute_result"
    }
   ],
   "source": [
    "books = [\n",
    "    '../books/free/Great Expectations - Charles Dickens.epub',\n",
    "    '../books/unfree/The Overstory - Richard Powers.epub'\n",
    "]\n",
    "\n",
    "book_choice = books[1]\n",
    "book_choice"
   ]
  },
  {
   "cell_type": "code",
   "execution_count": 3,
   "metadata": {},
   "outputs": [],
   "source": [
    "def get_section_header(text):\n",
    "    return text.strip().split(\"\\n\")[0]"
   ]
  },
  {
   "cell_type": "code",
   "execution_count": 4,
   "metadata": {},
   "outputs": [],
   "source": [
    "book = epub.read_epub(book_choice)\n",
    "items = book.get_items_of_type(ebooklib.ITEM_DOCUMENT)\n",
    "\n",
    "d = {}\n",
    "for item in items:\n",
    "    \n",
    "    name = item.get_name()\n",
    "    id_ = item.get_id()\n",
    "    \n",
    "    content = item.get_body_content()\n",
    "    soup = BeautifulSoup(content, features=\"lxml\")\n",
    "    text = soup.get_text()\n",
    "    \n",
    "    header = get_section_header(text)\n",
    "    \n",
    "    d[id_] = dict(\n",
    "        section_name=name,\n",
    "        section_id=id_,\n",
    "        text=text,\n",
    "        header=header,\n",
    "    )"
   ]
  },
  {
   "cell_type": "code",
   "execution_count": 5,
   "metadata": {},
   "outputs": [
    {
     "data": {
      "text/plain": [
       "['Cover',\n",
       " 'toc',\n",
       " 'title',\n",
       " 'ch1',\n",
       " 'ch2',\n",
       " 'ch3',\n",
       " 'ch4',\n",
       " 'ch5',\n",
       " 'ch6',\n",
       " 'ch7',\n",
       " 'ch8',\n",
       " 'ch9',\n",
       " 'ch10',\n",
       " 'ch11',\n",
       " 'ch12',\n",
       " 'also',\n",
       " 'ded',\n",
       " 'epi',\n",
       " 'copy']"
      ]
     },
     "execution_count": 5,
     "metadata": {},
     "output_type": "execute_result"
    }
   ],
   "source": [
    "# ids\n",
    "sections = list(d.keys())\n",
    "sections"
   ]
  },
  {
   "cell_type": "code",
   "execution_count": 6,
   "metadata": {},
   "outputs": [
    {
     "data": {
      "text/plain": [
       "['cover.xhtml',\n",
       " 'toc.xhtml',\n",
       " 'title.xhtml',\n",
       " 'ch1.xhtml',\n",
       " 'ch2.xhtml',\n",
       " 'ch3.xhtml',\n",
       " 'ch4.xhtml',\n",
       " 'ch5.xhtml',\n",
       " 'ch6.xhtml',\n",
       " 'ch7.xhtml',\n",
       " 'ch8.xhtml',\n",
       " 'ch9.xhtml',\n",
       " 'ch10.xhtml',\n",
       " 'ch11.xhtml',\n",
       " 'ch12.xhtml',\n",
       " 'also.xhtml',\n",
       " 'ded.xhtml',\n",
       " 'epi.xhtml',\n",
       " 'copy.xhtml']"
      ]
     },
     "execution_count": 6,
     "metadata": {},
     "output_type": "execute_result"
    }
   ],
   "source": [
    "# names\n",
    "[x['section_name'] for x in d.values()]"
   ]
  },
  {
   "cell_type": "code",
   "execution_count": 7,
   "metadata": {},
   "outputs": [],
   "source": [
    "def show_preview(i):\n",
    "    section = sections[i]\n",
    "    print(\"id:\", section)\n",
    "    print(\"name:\", d[section]['section_name'])\n",
    "    print(\"header:\", d[section]['header'])\n",
    "    \n",
    "    text = d[section]['text']\n",
    "    print(\"=\"*50)\n",
    "    display(text[:200])\n",
    "    print(\"...\")\n",
    "    display(text[-200:])"
   ]
  },
  {
   "cell_type": "code",
   "execution_count": 8,
   "metadata": {},
   "outputs": [],
   "source": [
    "# show_preview(4)"
   ]
  },
  {
   "cell_type": "markdown",
   "metadata": {},
   "source": [
    "## Get Main Content"
   ]
  },
  {
   "cell_type": "code",
   "execution_count": 9,
   "metadata": {},
   "outputs": [],
   "source": [
    "content = {}\n",
    "for section, v in d.items():\n",
    "    if \"ch\" in section:\n",
    "        chapter_num = int(''.join(filter(str.isdigit, v['section_id'])))\n",
    "        title = f\"{chapter_num:02} - {v['header']}\"\n",
    "        content[title] = v"
   ]
  },
  {
   "cell_type": "code",
   "execution_count": 10,
   "metadata": {},
   "outputs": [
    {
     "data": {
      "text/plain": [
       "['01 - ROOTS',\n",
       " '02 - NICHOLAS HOEL',\n",
       " '03 - MIMI MA',\n",
       " '04 - ADAM APPICH',\n",
       " '05 - RAY BRINKMAN AND DOROTHY CAZALY',\n",
       " '06 - DOUGLAS PAVLICEK',\n",
       " '07 - NEELAY MEHTA',\n",
       " '08 - PATRICIA WESTERFORD',\n",
       " '09 - OLIVIA VANDERGRIFF',\n",
       " '10 - TRUNK',\n",
       " '11 - CROWN',\n",
       " '12 - SEEDS']"
      ]
     },
     "execution_count": 10,
     "metadata": {},
     "output_type": "execute_result"
    }
   ],
   "source": [
    "content_keys = list(content.keys())\n",
    "content_keys"
   ]
  },
  {
   "cell_type": "code",
   "execution_count": 11,
   "metadata": {},
   "outputs": [
    {
     "data": {
      "text/plain": [
       "dict_keys(['section_name', 'section_id', 'text', 'header'])"
      ]
     },
     "execution_count": 11,
     "metadata": {},
     "output_type": "execute_result"
    }
   ],
   "source": [
    "k = content_keys[0]\n",
    "content[k].keys()"
   ]
  },
  {
   "cell_type": "markdown",
   "metadata": {},
   "source": [
    "## Word Counts"
   ]
  },
  {
   "cell_type": "code",
   "execution_count": 12,
   "metadata": {},
   "outputs": [
    {
     "data": {
      "text/html": [
       "<div>\n",
       "<style scoped>\n",
       "    .dataframe tbody tr th:only-of-type {\n",
       "        vertical-align: middle;\n",
       "    }\n",
       "\n",
       "    .dataframe tbody tr th {\n",
       "        vertical-align: top;\n",
       "    }\n",
       "\n",
       "    .dataframe thead th {\n",
       "        text-align: right;\n",
       "    }\n",
       "</style>\n",
       "<table border=\"1\" class=\"dataframe\">\n",
       "  <thead>\n",
       "    <tr style=\"text-align: right;\">\n",
       "      <th></th>\n",
       "      <th>chapter</th>\n",
       "      <th>word_count</th>\n",
       "    </tr>\n",
       "  </thead>\n",
       "  <tbody>\n",
       "    <tr>\n",
       "      <th>0</th>\n",
       "      <td>01 - ROOTS</td>\n",
       "      <td>2360</td>\n",
       "    </tr>\n",
       "    <tr>\n",
       "      <th>1</th>\n",
       "      <td>02 - NICHOLAS HOEL</td>\n",
       "      <td>40451</td>\n",
       "    </tr>\n",
       "    <tr>\n",
       "      <th>2</th>\n",
       "      <td>03 - MIMI MA</td>\n",
       "      <td>44610</td>\n",
       "    </tr>\n",
       "    <tr>\n",
       "      <th>3</th>\n",
       "      <td>04 - ADAM APPICH</td>\n",
       "      <td>32358</td>\n",
       "    </tr>\n",
       "    <tr>\n",
       "      <th>4</th>\n",
       "      <td>05 - RAY BRINKMAN AND DOROTHY CAZALY</td>\n",
       "      <td>16053</td>\n",
       "    </tr>\n",
       "    <tr>\n",
       "      <th>5</th>\n",
       "      <td>06 - DOUGLAS PAVLICEK</td>\n",
       "      <td>38900</td>\n",
       "    </tr>\n",
       "    <tr>\n",
       "      <th>6</th>\n",
       "      <td>07 - NEELAY MEHTA</td>\n",
       "      <td>42932</td>\n",
       "    </tr>\n",
       "    <tr>\n",
       "      <th>7</th>\n",
       "      <td>08 - PATRICIA WESTERFORD</td>\n",
       "      <td>69615</td>\n",
       "    </tr>\n",
       "    <tr>\n",
       "      <th>8</th>\n",
       "      <td>09 - OLIVIA VANDERGRIFF</td>\n",
       "      <td>15499</td>\n",
       "    </tr>\n",
       "    <tr>\n",
       "      <th>9</th>\n",
       "      <td>10 - TRUNK</td>\n",
       "      <td>386394</td>\n",
       "    </tr>\n",
       "    <tr>\n",
       "      <th>10</th>\n",
       "      <td>11 - CROWN</td>\n",
       "      <td>239534</td>\n",
       "    </tr>\n",
       "    <tr>\n",
       "      <th>11</th>\n",
       "      <td>12 - SEEDS</td>\n",
       "      <td>56126</td>\n",
       "    </tr>\n",
       "  </tbody>\n",
       "</table>\n",
       "</div>"
      ],
      "text/plain": [
       "                                 chapter  word_count\n",
       "0                             01 - ROOTS        2360\n",
       "1                     02 - NICHOLAS HOEL       40451\n",
       "2                           03 - MIMI MA       44610\n",
       "3                       04 - ADAM APPICH       32358\n",
       "4   05 - RAY BRINKMAN AND DOROTHY CAZALY       16053\n",
       "5                  06 - DOUGLAS PAVLICEK       38900\n",
       "6                      07 - NEELAY MEHTA       42932\n",
       "7               08 - PATRICIA WESTERFORD       69615\n",
       "8                09 - OLIVIA VANDERGRIFF       15499\n",
       "9                             10 - TRUNK      386394\n",
       "10                            11 - CROWN      239534\n",
       "11                            12 - SEEDS       56126"
      ]
     },
     "execution_count": 12,
     "metadata": {},
     "output_type": "execute_result"
    }
   ],
   "source": [
    "chapters = []\n",
    "counts = []\n",
    "\n",
    "for title, v in content.items():\n",
    "    chapters.append(title)\n",
    "    counts.append(len(v['text']))\n",
    "\n",
    "data = pd.DataFrame(dict(\n",
    "    chapter=chapters,\n",
    "    word_count=counts\n",
    "))\n",
    "\n",
    "data"
   ]
  },
  {
   "cell_type": "code",
   "execution_count": 13,
   "metadata": {},
   "outputs": [
    {
     "data": {
      "text/markdown": [
       "## Word Counts by Chapter"
      ],
      "text/plain": [
       "<IPython.core.display.Markdown object>"
      ]
     },
     "metadata": {},
     "output_type": "display_data"
    },
    {
     "data": {
      "application/vnd.vegalite.v3+json": {
       "$schema": "https://vega.github.io/schema/vega-lite/v3.3.0.json",
       "config": {
        "mark": {
         "tooltip": null
        },
        "view": {
         "height": 300,
         "width": 400
        }
       },
       "data": {
        "name": "data-cdf85f303a267fd42d30500b55806855"
       },
       "datasets": {
        "data-cdf85f303a267fd42d30500b55806855": [
         {
          "chapter": "01 - ROOTS",
          "word_count": 2360
         },
         {
          "chapter": "02 - NICHOLAS HOEL",
          "word_count": 40451
         },
         {
          "chapter": "03 - MIMI MA",
          "word_count": 44610
         },
         {
          "chapter": "04 - ADAM APPICH",
          "word_count": 32358
         },
         {
          "chapter": "05 - RAY BRINKMAN AND DOROTHY CAZALY",
          "word_count": 16053
         },
         {
          "chapter": "06 - DOUGLAS PAVLICEK",
          "word_count": 38900
         },
         {
          "chapter": "07 - NEELAY MEHTA",
          "word_count": 42932
         },
         {
          "chapter": "08 - PATRICIA WESTERFORD",
          "word_count": 69615
         },
         {
          "chapter": "09 - OLIVIA VANDERGRIFF",
          "word_count": 15499
         },
         {
          "chapter": "10 - TRUNK",
          "word_count": 386394
         },
         {
          "chapter": "11 - CROWN",
          "word_count": 239534
         },
         {
          "chapter": "12 - SEEDS",
          "word_count": 56126
         }
        ]
       },
       "encoding": {
        "tooltip": [
         {
          "field": "chapter",
          "type": "nominal"
         },
         {
          "field": "word_count",
          "type": "quantitative"
         }
        ],
        "x": {
         "field": "word_count",
         "title": "Word Count",
         "type": "quantitative"
        },
        "y": {
         "field": "chapter",
         "title": "Chapter",
         "type": "nominal"
        }
       },
       "mark": "bar",
       "selection": {
        "selector001": {
         "bind": "scales",
         "encodings": [
          "x",
          "y"
         ],
         "mark": {
          "fill": "#333",
          "fillOpacity": 0.125,
          "stroke": "white"
         },
         "on": "[mousedown, window:mouseup] > window:mousemove!",
         "resolve": "global",
         "translate": "[mousedown, window:mouseup] > window:mousemove!",
         "type": "interval",
         "zoom": "wheel!"
        }
       }
      },
      "image/png": "[encoded data removed]",
      "text/plain": [
       "<VegaLite 3 object>\n",
       "\n",
       "If you see this message, it means the renderer has not been properly enabled\n",
       "for the frontend that you are using. For more information, see\n",
       "https://altair-viz.github.io/user_guide/troubleshooting.html\n"
      ]
     },
     "metadata": {},
     "output_type": "display_data"
    }
   ],
   "source": [
    "chart = alt.Chart(data).mark_bar().encode(\n",
    "    alt.X('word_count', title='Word Count'),\n",
    "    alt.Y('chapter', title='Chapter'),\n",
    "    tooltip=['chapter', 'word_count'],\n",
    ").interactive()\n",
    "\n",
    "display(Markdown('## Word Counts by Chapter'))\n",
    "display(chart)"
   ]
  },
  {
   "cell_type": "code",
   "execution_count": 14,
   "metadata": {},
   "outputs": [],
   "source": [
    "# chart.save('out/html/word_counts.html')\n",
    "\n",
    "# chart.background = 'white'\n",
    "# chart.save('out/png/word_counts.png', scale_factor=2.0)"
   ]
  },
  {
   "cell_type": "code",
   "execution_count": null,
   "metadata": {},
   "outputs": [],
   "source": []
  },
  {
   "cell_type": "markdown",
   "metadata": {},
   "source": [
    "## Freq Words"
   ]
  },
  {
   "cell_type": "code",
   "execution_count": 50,
   "metadata": {},
   "outputs": [],
   "source": [
    "import operator\n",
    "from functools import reduce\n",
    "\n",
    "from nltk.corpus import stopwords\n",
    "from collections import Counter"
   ]
  },
  {
   "cell_type": "code",
   "execution_count": 51,
   "metadata": {},
   "outputs": [],
   "source": [
    "stop_words = set(stopwords.words('english')) \n",
    "\n",
    "def get_freq_words(section_id):\n",
    "    text = d[section_id]['text']\n",
    "    \n",
    "    # tokenize\n",
    "    word_tokens = nltk.word_tokenize(text)\n",
    "\n",
    "    # remove punctuation\n",
    "    words = [word.lower() for word in word_tokens if word.isalpha()]\n",
    "\n",
    "    # remove stop words\n",
    "    filtered_words = [w for w in words if not w in stop_words]\n",
    "    \n",
    "    c = Counter(filtered_words)\n",
    "    return c.most_common(5)"
   ]
  },
  {
   "cell_type": "code",
   "execution_count": 52,
   "metadata": {},
   "outputs": [
    {
     "data": {
      "text/html": [
       "<div>\n",
       "<style scoped>\n",
       "    .dataframe tbody tr th:only-of-type {\n",
       "        vertical-align: middle;\n",
       "    }\n",
       "\n",
       "    .dataframe tbody tr th {\n",
       "        vertical-align: top;\n",
       "    }\n",
       "\n",
       "    .dataframe thead th {\n",
       "        text-align: right;\n",
       "    }\n",
       "</style>\n",
       "<table border=\"1\" class=\"dataframe\">\n",
       "  <thead>\n",
       "    <tr style=\"text-align: right;\">\n",
       "      <th></th>\n",
       "      <th>word</th>\n",
       "      <th>count</th>\n",
       "      <th>chapter</th>\n",
       "    </tr>\n",
       "  </thead>\n",
       "  <tbody>\n",
       "    <tr>\n",
       "      <th>45</th>\n",
       "      <td>like</td>\n",
       "      <td>286</td>\n",
       "      <td>10 - TRUNK</td>\n",
       "    </tr>\n",
       "    <tr>\n",
       "      <th>43</th>\n",
       "      <td>back</td>\n",
       "      <td>9</td>\n",
       "      <td>09 - OLIVIA VANDERGRIFF</td>\n",
       "    </tr>\n",
       "    <tr>\n",
       "      <th>52</th>\n",
       "      <td>back</td>\n",
       "      <td>127</td>\n",
       "      <td>11 - CROWN</td>\n",
       "    </tr>\n",
       "    <tr>\n",
       "      <th>26</th>\n",
       "      <td>one</td>\n",
       "      <td>26</td>\n",
       "      <td>06 - DOUGLAS PAVLICEK</td>\n",
       "    </tr>\n",
       "    <tr>\n",
       "      <th>21</th>\n",
       "      <td>ray</td>\n",
       "      <td>13</td>\n",
       "      <td>05 - RAY BRINKMAN AND DOROTHY CAZALY</td>\n",
       "    </tr>\n",
       "  </tbody>\n",
       "</table>\n",
       "</div>"
      ],
      "text/plain": [
       "    word  count                               chapter\n",
       "45  like    286                            10 - TRUNK\n",
       "43  back      9               09 - OLIVIA VANDERGRIFF\n",
       "52  back    127                            11 - CROWN\n",
       "26   one     26                 06 - DOUGLAS PAVLICEK\n",
       "21   ray     13  05 - RAY BRINKMAN AND DOROTHY CAZALY"
      ]
     },
     "execution_count": 52,
     "metadata": {},
     "output_type": "execute_result"
    }
   ],
   "source": [
    "counts = []\n",
    "for title, v in content.items():\n",
    "    res = get_freq_words(v['section_id'])\n",
    "    res = [(*t, title) for t in res]\n",
    "    counts.append(res)\n",
    "\n",
    "counts_joined = reduce(operator.add, counts)\n",
    "\n",
    "data = pd.DataFrame(counts_joined, columns=['word', 'count', 'chapter'])\n",
    "data.sample(n=5)"
   ]
  },
  {
   "cell_type": "code",
   "execution_count": 53,
   "metadata": {},
   "outputs": [
    {
     "data": {
      "text/markdown": [
       "## Most Frequent Words by Chapter"
      ],
      "text/plain": [
       "<IPython.core.display.Markdown object>"
      ]
     },
     "metadata": {},
     "output_type": "display_data"
    },
    {
     "data": {
      "text/markdown": [
       "Counts of 5 most common words (excluding [\"stop words\"](https://en.wikipedia.org/wiki/Stop_words)) from each chapter throughout the book."
      ],
      "text/plain": [
       "<IPython.core.display.Markdown object>"
      ]
     },
     "metadata": {},
     "output_type": "display_data"
    },
    {
     "data": {
      "application/vnd.vegalite.v3+json": {
       "$schema": "https://vega.github.io/schema/vega-lite/v3.3.0.json",
       "config": {
        "mark": {
         "tooltip": null
        },
        "view": {
         "height": 300,
         "width": 400
        }
       },
       "data": {
        "name": "data-e36115204587b3f35f50ca82ea30e984"
       },
       "datasets": {
        "data-e36115204587b3f35f50ca82ea30e984": [
         {
          "chapter": "01 - ROOTS",
          "count": 4,
          "word": "woman"
         },
         {
          "chapter": "01 - ROOTS",
          "count": 4,
          "word": "says"
         },
         {
          "chapter": "01 - ROOTS",
          "count": 4,
          "word": "right"
         },
         {
          "chapter": "01 - ROOTS",
          "count": 3,
          "word": "nothing"
         },
         {
          "chapter": "01 - ROOTS",
          "count": 3,
          "word": "air"
         },
         {
          "chapter": "02 - NICHOLAS HOEL",
          "count": 45,
          "word": "hoel"
         },
         {
          "chapter": "02 - NICHOLAS HOEL",
          "count": 33,
          "word": "tree"
         },
         {
          "chapter": "02 - NICHOLAS HOEL",
          "count": 29,
          "word": "one"
         },
         {
          "chapter": "02 - NICHOLAS HOEL",
          "count": 26,
          "word": "chestnut"
         },
         {
          "chapter": "02 - NICHOLAS HOEL",
          "count": 26,
          "word": "father"
         },
         {
          "chapter": "03 - MIMI MA",
          "count": 56,
          "word": "mimi"
         },
         {
          "chapter": "03 - MIMI MA",
          "count": 41,
          "word": "father"
         },
         {
          "chapter": "03 - MIMI MA",
          "count": 38,
          "word": "one"
         },
         {
          "chapter": "03 - MIMI MA",
          "count": 35,
          "word": "like"
         },
         {
          "chapter": "03 - MIMI MA",
          "count": 33,
          "word": "sih"
         },
         {
          "chapter": "04 - ADAM APPICH",
          "count": 67,
          "word": "adam"
         },
         {
          "chapter": "04 - ADAM APPICH",
          "count": 25,
          "word": "one"
         },
         {
          "chapter": "04 - ADAM APPICH",
          "count": 21,
          "word": "tree"
         },
         {
          "chapter": "04 - ADAM APPICH",
          "count": 20,
          "word": "leigh"
         },
         {
          "chapter": "04 - ADAM APPICH",
          "count": 19,
          "word": "father"
         },
         {
          "chapter": "05 - RAY BRINKMAN AND DOROTHY CAZALY",
          "count": 14,
          "word": "two"
         },
         {
          "chapter": "05 - RAY BRINKMAN AND DOROTHY CAZALY",
          "count": 13,
          "word": "ray"
         },
         {
          "chapter": "05 - RAY BRINKMAN AND DOROTHY CAZALY",
          "count": 12,
          "word": "like"
         },
         {
          "chapter": "05 - RAY BRINKMAN AND DOROTHY CAZALY",
          "count": 12,
          "word": "something"
         },
         {
          "chapter": "05 - RAY BRINKMAN AND DOROTHY CAZALY",
          "count": 11,
          "word": "dorothy"
         },
         {
          "chapter": "06 - DOUGLAS PAVLICEK",
          "count": 28,
          "word": "like"
         },
         {
          "chapter": "06 - DOUGLAS PAVLICEK",
          "count": 26,
          "word": "one"
         },
         {
          "chapter": "06 - DOUGLAS PAVLICEK",
          "count": 23,
          "word": "back"
         },
         {
          "chapter": "06 - DOUGLAS PAVLICEK",
          "count": 21,
          "word": "douglas"
         },
         {
          "chapter": "06 - DOUGLAS PAVLICEK",
          "count": 17,
          "word": "two"
         },
         {
          "chapter": "07 - NEELAY MEHTA",
          "count": 52,
          "word": "neelay"
         },
         {
          "chapter": "07 - NEELAY MEHTA",
          "count": 42,
          "word": "like"
         },
         {
          "chapter": "07 - NEELAY MEHTA",
          "count": 34,
          "word": "father"
         },
         {
          "chapter": "07 - NEELAY MEHTA",
          "count": 31,
          "word": "boy"
         },
         {
          "chapter": "07 - NEELAY MEHTA",
          "count": 19,
          "word": "one"
         },
         {
          "chapter": "08 - PATRICIA WESTERFORD",
          "count": 62,
          "word": "trees"
         },
         {
          "chapter": "08 - PATRICIA WESTERFORD",
          "count": 46,
          "word": "one"
         },
         {
          "chapter": "08 - PATRICIA WESTERFORD",
          "count": 39,
          "word": "like"
         },
         {
          "chapter": "08 - PATRICIA WESTERFORD",
          "count": 34,
          "word": "forest"
         },
         {
          "chapter": "08 - PATRICIA WESTERFORD",
          "count": 30,
          "word": "patricia"
         },
         {
          "chapter": "09 - OLIVIA VANDERGRIFF",
          "count": 15,
          "word": "one"
         },
         {
          "chapter": "09 - OLIVIA VANDERGRIFF",
          "count": 13,
          "word": "like"
         },
         {
          "chapter": "09 - OLIVIA VANDERGRIFF",
          "count": 10,
          "word": "olivia"
         },
         {
          "chapter": "09 - OLIVIA VANDERGRIFF",
          "count": 9,
          "word": "back"
         },
         {
          "chapter": "09 - OLIVIA VANDERGRIFF",
          "count": 9,
          "word": "little"
         },
         {
          "chapter": "10 - TRUNK",
          "count": 286,
          "word": "like"
         },
         {
          "chapter": "10 - TRUNK",
          "count": 209,
          "word": "one"
         },
         {
          "chapter": "10 - TRUNK",
          "count": 193,
          "word": "back"
         },
         {
          "chapter": "10 - TRUNK",
          "count": 175,
          "word": "people"
         },
         {
          "chapter": "10 - TRUNK",
          "count": 154,
          "word": "two"
         },
         {
          "chapter": "11 - CROWN",
          "count": 177,
          "word": "one"
         },
         {
          "chapter": "11 - CROWN",
          "count": 159,
          "word": "like"
         },
         {
          "chapter": "11 - CROWN",
          "count": 127,
          "word": "back"
         },
         {
          "chapter": "11 - CROWN",
          "count": 98,
          "word": "trees"
         },
         {
          "chapter": "11 - CROWN",
          "count": 92,
          "word": "two"
         },
         {
          "chapter": "12 - SEEDS",
          "count": 37,
          "word": "life"
         },
         {
          "chapter": "12 - SEEDS",
          "count": 31,
          "word": "one"
         },
         {
          "chapter": "12 - SEEDS",
          "count": 29,
          "word": "back"
         },
         {
          "chapter": "12 - SEEDS",
          "count": 27,
          "word": "man"
         },
         {
          "chapter": "12 - SEEDS",
          "count": 26,
          "word": "even"
         }
        ]
       },
       "encoding": {
        "color": {
         "field": "count",
         "type": "quantitative"
        },
        "size": {
         "field": "count",
         "type": "quantitative"
        },
        "tooltip": [
         {
          "field": "word",
          "type": "nominal"
         },
         {
          "field": "chapter",
          "type": "nominal"
         },
         {
          "field": "count",
          "type": "quantitative"
         }
        ],
        "x": {
         "field": "word",
         "type": "nominal"
        },
        "y": {
         "field": "chapter",
         "type": "nominal"
        }
       },
       "height": 300,
       "mark": "circle",
       "selection": {
        "selector005": {
         "bind": "scales",
         "encodings": [
          "x",
          "y"
         ],
         "mark": {
          "fill": "#333",
          "fillOpacity": 0.125,
          "stroke": "white"
         },
         "on": "[mousedown, window:mouseup] > window:mousemove!",
         "resolve": "global",
         "translate": "[mousedown, window:mouseup] > window:mousemove!",
         "type": "interval",
         "zoom": "wheel!"
        }
       },
       "width": 600
      },
      "image/png": "[encoded data removed]",
      "text/plain": [
       "<VegaLite 3 object>\n",
       "\n",
       "If you see this message, it means the renderer has not been properly enabled\n",
       "for the frontend that you are using. For more information, see\n",
       "https://altair-viz.github.io/user_guide/troubleshooting.html\n"
      ]
     },
     "metadata": {},
     "output_type": "display_data"
    }
   ],
   "source": [
    "chart = alt.Chart(data).mark_circle().encode(\n",
    "    x='word',\n",
    "    y='chapter',\n",
    "    size='count',\n",
    "    color='count',\n",
    "    tooltip=['word', 'chapter', 'count'],\n",
    ").properties(height=300, width=600).interactive()\n",
    "\n",
    "display(Markdown('## Most Frequent Words by Chapter'))\n",
    "display(Markdown(\n",
    "    'Counts of 5 most common words '\n",
    "    '(excluding [\"stop words\"](https://en.wikipedia.org/wiki/Stop_words)), '\n",
    "    'from each chapter throughout the book.'))\n",
    "\n",
    "display(chart)"
   ]
  },
  {
   "cell_type": "code",
   "execution_count": 19,
   "metadata": {},
   "outputs": [],
   "source": [
    "# chart.save('out/html/freq_words.html')\n",
    "\n",
    "# chart.background = 'white'\n",
    "# chart.save('out/png/freq_words.png', scale_factor=2.0)"
   ]
  },
  {
   "cell_type": "markdown",
   "metadata": {},
   "source": [
    "## Characters"
   ]
  },
  {
   "cell_type": "code",
   "execution_count": 20,
   "metadata": {},
   "outputs": [],
   "source": [
    "charcters = [\n",
    "    'Nicholas Hoel',\n",
    "    'Mimi Ma',\n",
    "    'Adam Appich',\n",
    "    'Ray Brinkman',\n",
    "    'Dorothy Cazaly',\n",
    "    'Douglas Pavlicek',\n",
    "    'Neelay Mehta',\n",
    "    'Patricia Westerford',\n",
    "    'Olivia Vandergriff',\n",
    "]"
   ]
  },
  {
   "cell_type": "code",
   "execution_count": 21,
   "metadata": {},
   "outputs": [],
   "source": [
    "def eitherfy(name):\n",
    "    first, last = name.split()\n",
    "    return f\"\\\\b{first}\\\\b|\\\\b{last}\\\\b\""
   ]
  },
  {
   "cell_type": "code",
   "execution_count": 22,
   "metadata": {},
   "outputs": [],
   "source": [
    "def count_char_refs(text):\n",
    "    counts = []\n",
    "    for name in charcters:\n",
    "        exp = eitherfy(name)\n",
    "        count = len(re.findall(exp, text))\n",
    "        counts.append((name, count))\n",
    "    return counts"
   ]
  },
  {
   "cell_type": "code",
   "execution_count": 23,
   "metadata": {},
   "outputs": [
    {
     "data": {
      "text/html": [
       "<div>\n",
       "<style scoped>\n",
       "    .dataframe tbody tr th:only-of-type {\n",
       "        vertical-align: middle;\n",
       "    }\n",
       "\n",
       "    .dataframe tbody tr th {\n",
       "        vertical-align: top;\n",
       "    }\n",
       "\n",
       "    .dataframe thead th {\n",
       "        text-align: right;\n",
       "    }\n",
       "</style>\n",
       "<table border=\"1\" class=\"dataframe\">\n",
       "  <thead>\n",
       "    <tr style=\"text-align: right;\">\n",
       "      <th></th>\n",
       "      <th>character</th>\n",
       "      <th>count</th>\n",
       "      <th>chapter</th>\n",
       "    </tr>\n",
       "  </thead>\n",
       "  <tbody>\n",
       "    <tr>\n",
       "      <th>89</th>\n",
       "      <td>Olivia Vandergriff</td>\n",
       "      <td>72</td>\n",
       "      <td>10 - TRUNK</td>\n",
       "    </tr>\n",
       "    <tr>\n",
       "      <th>90</th>\n",
       "      <td>Nicholas Hoel</td>\n",
       "      <td>9</td>\n",
       "      <td>11 - CROWN</td>\n",
       "    </tr>\n",
       "    <tr>\n",
       "      <th>15</th>\n",
       "      <td>Neelay Mehta</td>\n",
       "      <td>0</td>\n",
       "      <td>02 - NICHOLAS HOEL</td>\n",
       "    </tr>\n",
       "    <tr>\n",
       "      <th>72</th>\n",
       "      <td>Nicholas Hoel</td>\n",
       "      <td>0</td>\n",
       "      <td>09 - OLIVIA VANDERGRIFF</td>\n",
       "    </tr>\n",
       "    <tr>\n",
       "      <th>91</th>\n",
       "      <td>Mimi Ma</td>\n",
       "      <td>58</td>\n",
       "      <td>11 - CROWN</td>\n",
       "    </tr>\n",
       "  </tbody>\n",
       "</table>\n",
       "</div>"
      ],
      "text/plain": [
       "             character  count                  chapter\n",
       "89  Olivia Vandergriff     72               10 - TRUNK\n",
       "90       Nicholas Hoel      9               11 - CROWN\n",
       "15        Neelay Mehta      0       02 - NICHOLAS HOEL\n",
       "72       Nicholas Hoel      0  09 - OLIVIA VANDERGRIFF\n",
       "91             Mimi Ma     58               11 - CROWN"
      ]
     },
     "execution_count": 23,
     "metadata": {},
     "output_type": "execute_result"
    }
   ],
   "source": [
    "chapter_counts = []\n",
    "for title, v in content.items():\n",
    "    res = count_char_refs(v['text'])\n",
    "    res = [(*t, title) for t in res]\n",
    "    chapter_counts.append(res)\n",
    "    \n",
    "counts_joined = reduce(operator.add, chapter_counts)\n",
    "\n",
    "data = pd.DataFrame(counts_joined, columns=['character', 'count', 'chapter'])\n",
    "data.sample(n=5)"
   ]
  },
  {
   "cell_type": "code",
   "execution_count": 24,
   "metadata": {},
   "outputs": [
    {
     "data": {
      "text/markdown": [
       "## Characters references across chapters"
      ],
      "text/plain": [
       "<IPython.core.display.Markdown object>"
      ]
     },
     "metadata": {},
     "output_type": "display_data"
    },
    {
     "data": {
      "application/vnd.vegalite.v3+json": {
       "$schema": "https://vega.github.io/schema/vega-lite/v3.3.0.json",
       "config": {
        "mark": {
         "tooltip": null
        },
        "view": {
         "height": 300,
         "width": 400
        }
       },
       "data": {
        "name": "data-a9307deaa8834eeec01d986a0785e769"
       },
       "datasets": {
        "data-a9307deaa8834eeec01d986a0785e769": [
         {
          "chapter": "01 - ROOTS",
          "character": "Nicholas Hoel",
          "count": 0
         },
         {
          "chapter": "01 - ROOTS",
          "character": "Mimi Ma",
          "count": 0
         },
         {
          "chapter": "01 - ROOTS",
          "character": "Adam Appich",
          "count": 0
         },
         {
          "chapter": "01 - ROOTS",
          "character": "Ray Brinkman",
          "count": 0
         },
         {
          "chapter": "01 - ROOTS",
          "character": "Dorothy Cazaly",
          "count": 0
         },
         {
          "chapter": "01 - ROOTS",
          "character": "Douglas Pavlicek",
          "count": 0
         },
         {
          "chapter": "01 - ROOTS",
          "character": "Neelay Mehta",
          "count": 0
         },
         {
          "chapter": "01 - ROOTS",
          "character": "Patricia Westerford",
          "count": 0
         },
         {
          "chapter": "01 - ROOTS",
          "character": "Olivia Vandergriff",
          "count": 0
         },
         {
          "chapter": "02 - NICHOLAS HOEL",
          "character": "Nicholas Hoel",
          "count": 48
         },
         {
          "chapter": "02 - NICHOLAS HOEL",
          "character": "Mimi Ma",
          "count": 0
         },
         {
          "chapter": "02 - NICHOLAS HOEL",
          "character": "Adam Appich",
          "count": 0
         },
         {
          "chapter": "02 - NICHOLAS HOEL",
          "character": "Ray Brinkman",
          "count": 0
         },
         {
          "chapter": "02 - NICHOLAS HOEL",
          "character": "Dorothy Cazaly",
          "count": 0
         },
         {
          "chapter": "02 - NICHOLAS HOEL",
          "character": "Douglas Pavlicek",
          "count": 1
         },
         {
          "chapter": "02 - NICHOLAS HOEL",
          "character": "Neelay Mehta",
          "count": 0
         },
         {
          "chapter": "02 - NICHOLAS HOEL",
          "character": "Patricia Westerford",
          "count": 0
         },
         {
          "chapter": "02 - NICHOLAS HOEL",
          "character": "Olivia Vandergriff",
          "count": 0
         },
         {
          "chapter": "03 - MIMI MA",
          "character": "Nicholas Hoel",
          "count": 0
         },
         {
          "chapter": "03 - MIMI MA",
          "character": "Mimi Ma",
          "count": 76
         },
         {
          "chapter": "03 - MIMI MA",
          "character": "Adam Appich",
          "count": 0
         },
         {
          "chapter": "03 - MIMI MA",
          "character": "Ray Brinkman",
          "count": 0
         },
         {
          "chapter": "03 - MIMI MA",
          "character": "Dorothy Cazaly",
          "count": 0
         },
         {
          "chapter": "03 - MIMI MA",
          "character": "Douglas Pavlicek",
          "count": 0
         },
         {
          "chapter": "03 - MIMI MA",
          "character": "Neelay Mehta",
          "count": 0
         },
         {
          "chapter": "03 - MIMI MA",
          "character": "Patricia Westerford",
          "count": 0
         },
         {
          "chapter": "03 - MIMI MA",
          "character": "Olivia Vandergriff",
          "count": 0
         },
         {
          "chapter": "04 - ADAM APPICH",
          "character": "Nicholas Hoel",
          "count": 0
         },
         {
          "chapter": "04 - ADAM APPICH",
          "character": "Mimi Ma",
          "count": 0
         },
         {
          "chapter": "04 - ADAM APPICH",
          "character": "Adam Appich",
          "count": 71
         },
         {
          "chapter": "04 - ADAM APPICH",
          "character": "Ray Brinkman",
          "count": 0
         },
         {
          "chapter": "04 - ADAM APPICH",
          "character": "Dorothy Cazaly",
          "count": 0
         },
         {
          "chapter": "04 - ADAM APPICH",
          "character": "Douglas Pavlicek",
          "count": 0
         },
         {
          "chapter": "04 - ADAM APPICH",
          "character": "Neelay Mehta",
          "count": 0
         },
         {
          "chapter": "04 - ADAM APPICH",
          "character": "Patricia Westerford",
          "count": 0
         },
         {
          "chapter": "04 - ADAM APPICH",
          "character": "Olivia Vandergriff",
          "count": 0
         },
         {
          "chapter": "05 - RAY BRINKMAN AND DOROTHY CAZALY",
          "character": "Nicholas Hoel",
          "count": 0
         },
         {
          "chapter": "05 - RAY BRINKMAN AND DOROTHY CAZALY",
          "character": "Mimi Ma",
          "count": 0
         },
         {
          "chapter": "05 - RAY BRINKMAN AND DOROTHY CAZALY",
          "character": "Adam Appich",
          "count": 0
         },
         {
          "chapter": "05 - RAY BRINKMAN AND DOROTHY CAZALY",
          "character": "Ray Brinkman",
          "count": 13
         },
         {
          "chapter": "05 - RAY BRINKMAN AND DOROTHY CAZALY",
          "character": "Dorothy Cazaly",
          "count": 11
         },
         {
          "chapter": "05 - RAY BRINKMAN AND DOROTHY CAZALY",
          "character": "Douglas Pavlicek",
          "count": 0
         },
         {
          "chapter": "05 - RAY BRINKMAN AND DOROTHY CAZALY",
          "character": "Neelay Mehta",
          "count": 0
         },
         {
          "chapter": "05 - RAY BRINKMAN AND DOROTHY CAZALY",
          "character": "Patricia Westerford",
          "count": 0
         },
         {
          "chapter": "05 - RAY BRINKMAN AND DOROTHY CAZALY",
          "character": "Olivia Vandergriff",
          "count": 0
         },
         {
          "chapter": "06 - DOUGLAS PAVLICEK",
          "character": "Nicholas Hoel",
          "count": 0
         },
         {
          "chapter": "06 - DOUGLAS PAVLICEK",
          "character": "Mimi Ma",
          "count": 0
         },
         {
          "chapter": "06 - DOUGLAS PAVLICEK",
          "character": "Adam Appich",
          "count": 0
         },
         {
          "chapter": "06 - DOUGLAS PAVLICEK",
          "character": "Ray Brinkman",
          "count": 0
         },
         {
          "chapter": "06 - DOUGLAS PAVLICEK",
          "character": "Dorothy Cazaly",
          "count": 0
         },
         {
          "chapter": "06 - DOUGLAS PAVLICEK",
          "character": "Douglas Pavlicek",
          "count": 35
         },
         {
          "chapter": "06 - DOUGLAS PAVLICEK",
          "character": "Neelay Mehta",
          "count": 0
         },
         {
          "chapter": "06 - DOUGLAS PAVLICEK",
          "character": "Patricia Westerford",
          "count": 0
         },
         {
          "chapter": "06 - DOUGLAS PAVLICEK",
          "character": "Olivia Vandergriff",
          "count": 0
         },
         {
          "chapter": "07 - NEELAY MEHTA",
          "character": "Nicholas Hoel",
          "count": 0
         },
         {
          "chapter": "07 - NEELAY MEHTA",
          "character": "Mimi Ma",
          "count": 0
         },
         {
          "chapter": "07 - NEELAY MEHTA",
          "character": "Adam Appich",
          "count": 0
         },
         {
          "chapter": "07 - NEELAY MEHTA",
          "character": "Ray Brinkman",
          "count": 0
         },
         {
          "chapter": "07 - NEELAY MEHTA",
          "character": "Dorothy Cazaly",
          "count": 0
         },
         {
          "chapter": "07 - NEELAY MEHTA",
          "character": "Douglas Pavlicek",
          "count": 0
         },
         {
          "chapter": "07 - NEELAY MEHTA",
          "character": "Neelay Mehta",
          "count": 59
         },
         {
          "chapter": "07 - NEELAY MEHTA",
          "character": "Patricia Westerford",
          "count": 0
         },
         {
          "chapter": "07 - NEELAY MEHTA",
          "character": "Olivia Vandergriff",
          "count": 0
         },
         {
          "chapter": "08 - PATRICIA WESTERFORD",
          "character": "Nicholas Hoel",
          "count": 0
         },
         {
          "chapter": "08 - PATRICIA WESTERFORD",
          "character": "Mimi Ma",
          "count": 0
         },
         {
          "chapter": "08 - PATRICIA WESTERFORD",
          "character": "Adam Appich",
          "count": 1
         },
         {
          "chapter": "08 - PATRICIA WESTERFORD",
          "character": "Ray Brinkman",
          "count": 0
         },
         {
          "chapter": "08 - PATRICIA WESTERFORD",
          "character": "Dorothy Cazaly",
          "count": 0
         },
         {
          "chapter": "08 - PATRICIA WESTERFORD",
          "character": "Douglas Pavlicek",
          "count": 4
         },
         {
          "chapter": "08 - PATRICIA WESTERFORD",
          "character": "Neelay Mehta",
          "count": 0
         },
         {
          "chapter": "08 - PATRICIA WESTERFORD",
          "character": "Patricia Westerford",
          "count": 44
         },
         {
          "chapter": "08 - PATRICIA WESTERFORD",
          "character": "Olivia Vandergriff",
          "count": 0
         },
         {
          "chapter": "09 - OLIVIA VANDERGRIFF",
          "character": "Nicholas Hoel",
          "count": 0
         },
         {
          "chapter": "09 - OLIVIA VANDERGRIFF",
          "character": "Mimi Ma",
          "count": 0
         },
         {
          "chapter": "09 - OLIVIA VANDERGRIFF",
          "character": "Adam Appich",
          "count": 0
         },
         {
          "chapter": "09 - OLIVIA VANDERGRIFF",
          "character": "Ray Brinkman",
          "count": 0
         },
         {
          "chapter": "09 - OLIVIA VANDERGRIFF",
          "character": "Dorothy Cazaly",
          "count": 0
         },
         {
          "chapter": "09 - OLIVIA VANDERGRIFF",
          "character": "Douglas Pavlicek",
          "count": 0
         },
         {
          "chapter": "09 - OLIVIA VANDERGRIFF",
          "character": "Neelay Mehta",
          "count": 0
         },
         {
          "chapter": "09 - OLIVIA VANDERGRIFF",
          "character": "Patricia Westerford",
          "count": 0
         },
         {
          "chapter": "09 - OLIVIA VANDERGRIFF",
          "character": "Olivia Vandergriff",
          "count": 10
         },
         {
          "chapter": "10 - TRUNK",
          "character": "Nicholas Hoel",
          "count": 16
         },
         {
          "chapter": "10 - TRUNK",
          "character": "Mimi Ma",
          "count": 95
         },
         {
          "chapter": "10 - TRUNK",
          "character": "Adam Appich",
          "count": 111
         },
         {
          "chapter": "10 - TRUNK",
          "character": "Ray Brinkman",
          "count": 30
         },
         {
          "chapter": "10 - TRUNK",
          "character": "Dorothy Cazaly",
          "count": 22
         },
         {
          "chapter": "10 - TRUNK",
          "character": "Douglas Pavlicek",
          "count": 87
         },
         {
          "chapter": "10 - TRUNK",
          "character": "Neelay Mehta",
          "count": 64
         },
         {
          "chapter": "10 - TRUNK",
          "character": "Patricia Westerford",
          "count": 18
         },
         {
          "chapter": "10 - TRUNK",
          "character": "Olivia Vandergriff",
          "count": 72
         },
         {
          "chapter": "11 - CROWN",
          "character": "Nicholas Hoel",
          "count": 9
         },
         {
          "chapter": "11 - CROWN",
          "character": "Mimi Ma",
          "count": 58
         },
         {
          "chapter": "11 - CROWN",
          "character": "Adam Appich",
          "count": 78
         },
         {
          "chapter": "11 - CROWN",
          "character": "Ray Brinkman",
          "count": 42
         },
         {
          "chapter": "11 - CROWN",
          "character": "Dorothy Cazaly",
          "count": 23
         },
         {
          "chapter": "11 - CROWN",
          "character": "Douglas Pavlicek",
          "count": 43
         },
         {
          "chapter": "11 - CROWN",
          "character": "Neelay Mehta",
          "count": 16
         },
         {
          "chapter": "11 - CROWN",
          "character": "Patricia Westerford",
          "count": 43
         },
         {
          "chapter": "11 - CROWN",
          "character": "Olivia Vandergriff",
          "count": 6
         },
         {
          "chapter": "12 - SEEDS",
          "character": "Nicholas Hoel",
          "count": 3
         },
         {
          "chapter": "12 - SEEDS",
          "character": "Mimi Ma",
          "count": 21
         },
         {
          "chapter": "12 - SEEDS",
          "character": "Adam Appich",
          "count": 13
         },
         {
          "chapter": "12 - SEEDS",
          "character": "Ray Brinkman",
          "count": 7
         },
         {
          "chapter": "12 - SEEDS",
          "character": "Dorothy Cazaly",
          "count": 3
         },
         {
          "chapter": "12 - SEEDS",
          "character": "Douglas Pavlicek",
          "count": 2
         },
         {
          "chapter": "12 - SEEDS",
          "character": "Neelay Mehta",
          "count": 6
         },
         {
          "chapter": "12 - SEEDS",
          "character": "Patricia Westerford",
          "count": 0
         },
         {
          "chapter": "12 - SEEDS",
          "character": "Olivia Vandergriff",
          "count": 0
         }
        ]
       },
       "encoding": {
        "color": {
         "field": "character",
         "scale": {
          "scheme": "category20b"
         },
         "sort": [
          "Nicholas Hoel",
          "Mimi Ma",
          "Adam Appich",
          "Ray Brinkman",
          "Dorothy Cazaly",
          "Douglas Pavlicek",
          "Neelay Mehta",
          "Patricia Westerford",
          "Olivia Vandergriff"
         ],
         "type": "nominal"
        },
        "tooltip": [
         {
          "field": "character",
          "type": "nominal"
         },
         {
          "field": "chapter",
          "type": "nominal"
         },
         {
          "field": "count",
          "type": "quantitative"
         }
        ],
        "x": {
         "field": "chapter",
         "type": "nominal"
        },
        "y": {
         "axis": null,
         "field": "count",
         "stack": "center",
         "type": "quantitative"
        }
       },
       "height": 300,
       "mark": {
        "fillOpacity": 0.8,
        "type": "area"
       },
       "selection": {
        "selector003": {
         "bind": "scales",
         "encodings": [
          "x",
          "y"
         ],
         "mark": {
          "fill": "#333",
          "fillOpacity": 0.125,
          "stroke": "white"
         },
         "on": "[mousedown, window:mouseup] > window:mousemove!",
         "resolve": "global",
         "translate": "[mousedown, window:mouseup] > window:mousemove!",
         "type": "interval",
         "zoom": "wheel!"
        }
       },
       "width": 600
      },
      "image/png": "[encoded data removed]",
      "text/plain": [
       "<VegaLite 3 object>\n",
       "\n",
       "If you see this message, it means the renderer has not been properly enabled\n",
       "for the frontend that you are using. For more information, see\n",
       "https://altair-viz.github.io/user_guide/troubleshooting.html\n"
      ]
     },
     "metadata": {},
     "output_type": "display_data"
    }
   ],
   "source": [
    "chart = alt.Chart(data).mark_area(fillOpacity=0.8).encode(\n",
    "    alt.X('chapter'),\n",
    "    alt.Y('count', stack='center', axis=None),\n",
    "    alt.Color(\n",
    "        'character',\n",
    "        scale=alt.Scale(scheme='category20b'),\n",
    "        sort=charcters\n",
    "    ),\n",
    "    tooltip=['character', 'chapter', 'count'],\n",
    ").properties(height=300, width=600).interactive()\n",
    "\n",
    "display(Markdown('## Characters references across chapters'))\n",
    "display(chart)"
   ]
  },
  {
   "cell_type": "code",
   "execution_count": 25,
   "metadata": {},
   "outputs": [],
   "source": [
    "# chart.save('out/html/characters.html')\n",
    "\n",
    "# chart.background = 'white'\n",
    "# chart.save('out/png/characters.png', scale_factor=2.0)"
   ]
  },
  {
   "cell_type": "code",
   "execution_count": null,
   "metadata": {},
   "outputs": [],
   "source": []
  },
  {
   "cell_type": "code",
   "execution_count": 26,
   "metadata": {},
   "outputs": [],
   "source": [
    "# chart = alt.Chart(data).mark_area().encode(\n",
    "#     x=\"chapter\",\n",
    "#     y=\"count\",\n",
    "#     color=\"character\",\n",
    "#     row='character'\n",
    "# ).properties(height=50, width=400)\n",
    "\n",
    "# chart"
   ]
  },
  {
   "cell_type": "code",
   "execution_count": null,
   "metadata": {},
   "outputs": [],
   "source": [
    "\n"
   ]
  },
  {
   "cell_type": "code",
   "execution_count": null,
   "metadata": {},
   "outputs": [],
   "source": []
  },
  {
   "cell_type": "markdown",
   "metadata": {},
   "source": [
    "## Trees"
   ]
  },
  {
   "cell_type": "code",
   "execution_count": 27,
   "metadata": {},
   "outputs": [],
   "source": [
    "trees = [\n",
    "    'alder',\n",
    "    'ash',\n",
    "    'birch',\n",
    "    'chestnut',\n",
    "    'elm',\n",
    "    'fig',\n",
    "    'fir',\n",
    "    'fusang',\n",
    "    'hemlock',\n",
    "    'lote',\n",
    "    'maple',\n",
    "    'mulberry',\n",
    "    'oak',\n",
    "    'pine',\n",
    "    'redwood',\n",
    "    'silk',\n",
    "    'walnut',\n",
    "    'willow'\n",
    "]"
   ]
  },
  {
   "cell_type": "code",
   "execution_count": 28,
   "metadata": {},
   "outputs": [],
   "source": [
    "def count_refs(text):\n",
    "    counts = []\n",
    "    for name in trees:\n",
    "        count = len(re.findall(name, text, flags=re.IGNORECASE))\n",
    "        counts.append((name, count))\n",
    "    return counts"
   ]
  },
  {
   "cell_type": "code",
   "execution_count": 29,
   "metadata": {},
   "outputs": [
    {
     "data": {
      "text/html": [
       "<div>\n",
       "<style scoped>\n",
       "    .dataframe tbody tr th:only-of-type {\n",
       "        vertical-align: middle;\n",
       "    }\n",
       "\n",
       "    .dataframe tbody tr th {\n",
       "        vertical-align: top;\n",
       "    }\n",
       "\n",
       "    .dataframe thead th {\n",
       "        text-align: right;\n",
       "    }\n",
       "</style>\n",
       "<table border=\"1\" class=\"dataframe\">\n",
       "  <thead>\n",
       "    <tr style=\"text-align: right;\">\n",
       "      <th></th>\n",
       "      <th>tree</th>\n",
       "      <th>count</th>\n",
       "      <th>chapter</th>\n",
       "    </tr>\n",
       "  </thead>\n",
       "  <tbody>\n",
       "    <tr>\n",
       "      <th>6</th>\n",
       "      <td>fir</td>\n",
       "      <td>1</td>\n",
       "      <td>01 - ROOTS</td>\n",
       "    </tr>\n",
       "    <tr>\n",
       "      <th>138</th>\n",
       "      <td>oak</td>\n",
       "      <td>7</td>\n",
       "      <td>08 - PATRICIA WESTERFORD</td>\n",
       "    </tr>\n",
       "    <tr>\n",
       "      <th>137</th>\n",
       "      <td>mulberry</td>\n",
       "      <td>0</td>\n",
       "      <td>08 - PATRICIA WESTERFORD</td>\n",
       "    </tr>\n",
       "    <tr>\n",
       "      <th>212</th>\n",
       "      <td>redwood</td>\n",
       "      <td>4</td>\n",
       "      <td>12 - SEEDS</td>\n",
       "    </tr>\n",
       "    <tr>\n",
       "      <th>213</th>\n",
       "      <td>silk</td>\n",
       "      <td>1</td>\n",
       "      <td>12 - SEEDS</td>\n",
       "    </tr>\n",
       "  </tbody>\n",
       "</table>\n",
       "</div>"
      ],
      "text/plain": [
       "         tree  count                   chapter\n",
       "6         fir      1                01 - ROOTS\n",
       "138       oak      7  08 - PATRICIA WESTERFORD\n",
       "137  mulberry      0  08 - PATRICIA WESTERFORD\n",
       "212   redwood      4                12 - SEEDS\n",
       "213      silk      1                12 - SEEDS"
      ]
     },
     "execution_count": 29,
     "metadata": {},
     "output_type": "execute_result"
    }
   ],
   "source": [
    "tree_counts = []\n",
    "\n",
    "for title, v in content.items():\n",
    "    res = count_refs(v['text'])\n",
    "    res = [(*t, title) for t in res]\n",
    "    tree_counts.append(res)\n",
    "    \n",
    "counts_joined = reduce(operator.add, tree_counts)\n",
    "\n",
    "data = pd.DataFrame(counts_joined, columns=['tree', 'count', 'chapter'])\n",
    "data.sample(n=5)"
   ]
  },
  {
   "cell_type": "code",
   "execution_count": 30,
   "metadata": {},
   "outputs": [
    {
     "data": {
      "text/html": [
       "<div>\n",
       "<style scoped>\n",
       "    .dataframe tbody tr th:only-of-type {\n",
       "        vertical-align: middle;\n",
       "    }\n",
       "\n",
       "    .dataframe tbody tr th {\n",
       "        vertical-align: top;\n",
       "    }\n",
       "\n",
       "    .dataframe thead th {\n",
       "        text-align: right;\n",
       "    }\n",
       "</style>\n",
       "<table border=\"1\" class=\"dataframe\">\n",
       "  <thead>\n",
       "    <tr style=\"text-align: right;\">\n",
       "      <th>tree</th>\n",
       "      <th>alder</th>\n",
       "      <th>ash</th>\n",
       "      <th>birch</th>\n",
       "      <th>chestnut</th>\n",
       "      <th>elm</th>\n",
       "      <th>fig</th>\n",
       "      <th>fir</th>\n",
       "      <th>fusang</th>\n",
       "      <th>hemlock</th>\n",
       "      <th>lote</th>\n",
       "      <th>maple</th>\n",
       "      <th>mulberry</th>\n",
       "      <th>oak</th>\n",
       "      <th>pine</th>\n",
       "      <th>redwood</th>\n",
       "      <th>silk</th>\n",
       "      <th>walnut</th>\n",
       "      <th>willow</th>\n",
       "    </tr>\n",
       "  </thead>\n",
       "  <tbody>\n",
       "    <tr>\n",
       "      <th>count</th>\n",
       "      <td>5</td>\n",
       "      <td>204</td>\n",
       "      <td>10</td>\n",
       "      <td>68</td>\n",
       "      <td>25</td>\n",
       "      <td>113</td>\n",
       "      <td>390</td>\n",
       "      <td>7</td>\n",
       "      <td>12</td>\n",
       "      <td>3</td>\n",
       "      <td>44</td>\n",
       "      <td>35</td>\n",
       "      <td>59</td>\n",
       "      <td>94</td>\n",
       "      <td>41</td>\n",
       "      <td>18</td>\n",
       "      <td>13</td>\n",
       "      <td>7</td>\n",
       "    </tr>\n",
       "  </tbody>\n",
       "</table>\n",
       "</div>"
      ],
      "text/plain": [
       "tree   alder  ash  birch  chestnut  elm  fig  fir  fusang  hemlock  lote  \\\n",
       "count      5  204     10        68   25  113  390       7       12     3   \n",
       "\n",
       "tree   maple  mulberry  oak  pine  redwood  silk  walnut  willow  \n",
       "count     44        35   59    94       41    18      13       7  "
      ]
     },
     "execution_count": 30,
     "metadata": {},
     "output_type": "execute_result"
    }
   ],
   "source": [
    "data.pivot_table(columns='tree', values='count', aggfunc='sum')"
   ]
  },
  {
   "cell_type": "code",
   "execution_count": 31,
   "metadata": {},
   "outputs": [
    {
     "data": {
      "text/markdown": [
       "## Tree references across chapters"
      ],
      "text/plain": [
       "<IPython.core.display.Markdown object>"
      ]
     },
     "metadata": {},
     "output_type": "display_data"
    },
    {
     "data": {
      "application/vnd.vegalite.v3+json": {
       "$schema": "https://vega.github.io/schema/vega-lite/v3.3.0.json",
       "config": {
        "mark": {
         "tooltip": null
        },
        "view": {
         "height": 300,
         "width": 400
        }
       },
       "data": {
        "name": "data-993b7140c31761809e7a3316aecd3c35"
       },
       "datasets": {
        "data-993b7140c31761809e7a3316aecd3c35": [
         {
          "chapter": "01 - ROOTS",
          "count": 1,
          "tree": "alder"
         },
         {
          "chapter": "01 - ROOTS",
          "count": 0,
          "tree": "ash"
         },
         {
          "chapter": "01 - ROOTS",
          "count": 0,
          "tree": "birch"
         },
         {
          "chapter": "01 - ROOTS",
          "count": 0,
          "tree": "chestnut"
         },
         {
          "chapter": "01 - ROOTS",
          "count": 0,
          "tree": "elm"
         },
         {
          "chapter": "01 - ROOTS",
          "count": 0,
          "tree": "fig"
         },
         {
          "chapter": "01 - ROOTS",
          "count": 1,
          "tree": "fir"
         },
         {
          "chapter": "01 - ROOTS",
          "count": 0,
          "tree": "fusang"
         },
         {
          "chapter": "01 - ROOTS",
          "count": 0,
          "tree": "hemlock"
         },
         {
          "chapter": "01 - ROOTS",
          "count": 0,
          "tree": "lote"
         },
         {
          "chapter": "01 - ROOTS",
          "count": 0,
          "tree": "maple"
         },
         {
          "chapter": "01 - ROOTS",
          "count": 0,
          "tree": "mulberry"
         },
         {
          "chapter": "01 - ROOTS",
          "count": 1,
          "tree": "oak"
         },
         {
          "chapter": "01 - ROOTS",
          "count": 2,
          "tree": "pine"
         },
         {
          "chapter": "01 - ROOTS",
          "count": 0,
          "tree": "redwood"
         },
         {
          "chapter": "01 - ROOTS",
          "count": 0,
          "tree": "silk"
         },
         {
          "chapter": "01 - ROOTS",
          "count": 1,
          "tree": "walnut"
         },
         {
          "chapter": "01 - ROOTS",
          "count": 1,
          "tree": "willow"
         },
         {
          "chapter": "02 - NICHOLAS HOEL",
          "count": 0,
          "tree": "alder"
         },
         {
          "chapter": "02 - NICHOLAS HOEL",
          "count": 6,
          "tree": "ash"
         },
         {
          "chapter": "02 - NICHOLAS HOEL",
          "count": 0,
          "tree": "birch"
         },
         {
          "chapter": "02 - NICHOLAS HOEL",
          "count": 36,
          "tree": "chestnut"
         },
         {
          "chapter": "02 - NICHOLAS HOEL",
          "count": 0,
          "tree": "elm"
         },
         {
          "chapter": "02 - NICHOLAS HOEL",
          "count": 3,
          "tree": "fig"
         },
         {
          "chapter": "02 - NICHOLAS HOEL",
          "count": 21,
          "tree": "fir"
         },
         {
          "chapter": "02 - NICHOLAS HOEL",
          "count": 0,
          "tree": "fusang"
         },
         {
          "chapter": "02 - NICHOLAS HOEL",
          "count": 0,
          "tree": "hemlock"
         },
         {
          "chapter": "02 - NICHOLAS HOEL",
          "count": 0,
          "tree": "lote"
         },
         {
          "chapter": "02 - NICHOLAS HOEL",
          "count": 0,
          "tree": "maple"
         },
         {
          "chapter": "02 - NICHOLAS HOEL",
          "count": 0,
          "tree": "mulberry"
         },
         {
          "chapter": "02 - NICHOLAS HOEL",
          "count": 4,
          "tree": "oak"
         },
         {
          "chapter": "02 - NICHOLAS HOEL",
          "count": 6,
          "tree": "pine"
         },
         {
          "chapter": "02 - NICHOLAS HOEL",
          "count": 1,
          "tree": "redwood"
         },
         {
          "chapter": "02 - NICHOLAS HOEL",
          "count": 0,
          "tree": "silk"
         },
         {
          "chapter": "02 - NICHOLAS HOEL",
          "count": 0,
          "tree": "walnut"
         },
         {
          "chapter": "02 - NICHOLAS HOEL",
          "count": 0,
          "tree": "willow"
         },
         {
          "chapter": "03 - MIMI MA",
          "count": 1,
          "tree": "alder"
         },
         {
          "chapter": "03 - MIMI MA",
          "count": 6,
          "tree": "ash"
         },
         {
          "chapter": "03 - MIMI MA",
          "count": 0,
          "tree": "birch"
         },
         {
          "chapter": "03 - MIMI MA",
          "count": 0,
          "tree": "chestnut"
         },
         {
          "chapter": "03 - MIMI MA",
          "count": 0,
          "tree": "elm"
         },
         {
          "chapter": "03 - MIMI MA",
          "count": 5,
          "tree": "fig"
         },
         {
          "chapter": "03 - MIMI MA",
          "count": 7,
          "tree": "fir"
         },
         {
          "chapter": "03 - MIMI MA",
          "count": 5,
          "tree": "fusang"
         },
         {
          "chapter": "03 - MIMI MA",
          "count": 0,
          "tree": "hemlock"
         },
         {
          "chapter": "03 - MIMI MA",
          "count": 2,
          "tree": "lote"
         },
         {
          "chapter": "03 - MIMI MA",
          "count": 0,
          "tree": "maple"
         },
         {
          "chapter": "03 - MIMI MA",
          "count": 12,
          "tree": "mulberry"
         },
         {
          "chapter": "03 - MIMI MA",
          "count": 0,
          "tree": "oak"
         },
         {
          "chapter": "03 - MIMI MA",
          "count": 4,
          "tree": "pine"
         },
         {
          "chapter": "03 - MIMI MA",
          "count": 0,
          "tree": "redwood"
         },
         {
          "chapter": "03 - MIMI MA",
          "count": 11,
          "tree": "silk"
         },
         {
          "chapter": "03 - MIMI MA",
          "count": 0,
          "tree": "walnut"
         },
         {
          "chapter": "03 - MIMI MA",
          "count": 0,
          "tree": "willow"
         },
         {
          "chapter": "04 - ADAM APPICH",
          "count": 0,
          "tree": "alder"
         },
         {
          "chapter": "04 - ADAM APPICH",
          "count": 11,
          "tree": "ash"
         },
         {
          "chapter": "04 - ADAM APPICH",
          "count": 1,
          "tree": "birch"
         },
         {
          "chapter": "04 - ADAM APPICH",
          "count": 0,
          "tree": "chestnut"
         },
         {
          "chapter": "04 - ADAM APPICH",
          "count": 10,
          "tree": "elm"
         },
         {
          "chapter": "04 - ADAM APPICH",
          "count": 9,
          "tree": "fig"
         },
         {
          "chapter": "04 - ADAM APPICH",
          "count": 14,
          "tree": "fir"
         },
         {
          "chapter": "04 - ADAM APPICH",
          "count": 0,
          "tree": "fusang"
         },
         {
          "chapter": "04 - ADAM APPICH",
          "count": 2,
          "tree": "hemlock"
         },
         {
          "chapter": "04 - ADAM APPICH",
          "count": 0,
          "tree": "lote"
         },
         {
          "chapter": "04 - ADAM APPICH",
          "count": 11,
          "tree": "maple"
         },
         {
          "chapter": "04 - ADAM APPICH",
          "count": 0,
          "tree": "mulberry"
         },
         {
          "chapter": "04 - ADAM APPICH",
          "count": 0,
          "tree": "oak"
         },
         {
          "chapter": "04 - ADAM APPICH",
          "count": 1,
          "tree": "pine"
         },
         {
          "chapter": "04 - ADAM APPICH",
          "count": 1,
          "tree": "redwood"
         },
         {
          "chapter": "04 - ADAM APPICH",
          "count": 0,
          "tree": "silk"
         },
         {
          "chapter": "04 - ADAM APPICH",
          "count": 3,
          "tree": "walnut"
         },
         {
          "chapter": "04 - ADAM APPICH",
          "count": 0,
          "tree": "willow"
         },
         {
          "chapter": "05 - RAY BRINKMAN AND DOROTHY CAZALY",
          "count": 0,
          "tree": "alder"
         },
         {
          "chapter": "05 - RAY BRINKMAN AND DOROTHY CAZALY",
          "count": 2,
          "tree": "ash"
         },
         {
          "chapter": "05 - RAY BRINKMAN AND DOROTHY CAZALY",
          "count": 0,
          "tree": "birch"
         },
         {
          "chapter": "05 - RAY BRINKMAN AND DOROTHY CAZALY",
          "count": 0,
          "tree": "chestnut"
         },
         {
          "chapter": "05 - RAY BRINKMAN AND DOROTHY CAZALY",
          "count": 0,
          "tree": "elm"
         },
         {
          "chapter": "05 - RAY BRINKMAN AND DOROTHY CAZALY",
          "count": 1,
          "tree": "fig"
         },
         {
          "chapter": "05 - RAY BRINKMAN AND DOROTHY CAZALY",
          "count": 8,
          "tree": "fir"
         },
         {
          "chapter": "05 - RAY BRINKMAN AND DOROTHY CAZALY",
          "count": 0,
          "tree": "fusang"
         },
         {
          "chapter": "05 - RAY BRINKMAN AND DOROTHY CAZALY",
          "count": 0,
          "tree": "hemlock"
         },
         {
          "chapter": "05 - RAY BRINKMAN AND DOROTHY CAZALY",
          "count": 0,
          "tree": "lote"
         },
         {
          "chapter": "05 - RAY BRINKMAN AND DOROTHY CAZALY",
          "count": 0,
          "tree": "maple"
         },
         {
          "chapter": "05 - RAY BRINKMAN AND DOROTHY CAZALY",
          "count": 0,
          "tree": "mulberry"
         },
         {
          "chapter": "05 - RAY BRINKMAN AND DOROTHY CAZALY",
          "count": 9,
          "tree": "oak"
         },
         {
          "chapter": "05 - RAY BRINKMAN AND DOROTHY CAZALY",
          "count": 0,
          "tree": "pine"
         },
         {
          "chapter": "05 - RAY BRINKMAN AND DOROTHY CAZALY",
          "count": 0,
          "tree": "redwood"
         },
         {
          "chapter": "05 - RAY BRINKMAN AND DOROTHY CAZALY",
          "count": 0,
          "tree": "silk"
         },
         {
          "chapter": "05 - RAY BRINKMAN AND DOROTHY CAZALY",
          "count": 0,
          "tree": "walnut"
         },
         {
          "chapter": "05 - RAY BRINKMAN AND DOROTHY CAZALY",
          "count": 0,
          "tree": "willow"
         },
         {
          "chapter": "06 - DOUGLAS PAVLICEK",
          "count": 0,
          "tree": "alder"
         },
         {
          "chapter": "06 - DOUGLAS PAVLICEK",
          "count": 17,
          "tree": "ash"
         },
         {
          "chapter": "06 - DOUGLAS PAVLICEK",
          "count": 0,
          "tree": "birch"
         },
         {
          "chapter": "06 - DOUGLAS PAVLICEK",
          "count": 0,
          "tree": "chestnut"
         },
         {
          "chapter": "06 - DOUGLAS PAVLICEK",
          "count": 3,
          "tree": "elm"
         },
         {
          "chapter": "06 - DOUGLAS PAVLICEK",
          "count": 12,
          "tree": "fig"
         },
         {
          "chapter": "06 - DOUGLAS PAVLICEK",
          "count": 10,
          "tree": "fir"
         },
         {
          "chapter": "06 - DOUGLAS PAVLICEK",
          "count": 0,
          "tree": "fusang"
         },
         {
          "chapter": "06 - DOUGLAS PAVLICEK",
          "count": 0,
          "tree": "hemlock"
         },
         {
          "chapter": "06 - DOUGLAS PAVLICEK",
          "count": 0,
          "tree": "lote"
         },
         {
          "chapter": "06 - DOUGLAS PAVLICEK",
          "count": 0,
          "tree": "maple"
         },
         {
          "chapter": "06 - DOUGLAS PAVLICEK",
          "count": 0,
          "tree": "mulberry"
         },
         {
          "chapter": "06 - DOUGLAS PAVLICEK",
          "count": 0,
          "tree": "oak"
         },
         {
          "chapter": "06 - DOUGLAS PAVLICEK",
          "count": 7,
          "tree": "pine"
         },
         {
          "chapter": "06 - DOUGLAS PAVLICEK",
          "count": 0,
          "tree": "redwood"
         },
         {
          "chapter": "06 - DOUGLAS PAVLICEK",
          "count": 1,
          "tree": "silk"
         },
         {
          "chapter": "06 - DOUGLAS PAVLICEK",
          "count": 0,
          "tree": "walnut"
         },
         {
          "chapter": "06 - DOUGLAS PAVLICEK",
          "count": 0,
          "tree": "willow"
         },
         {
          "chapter": "07 - NEELAY MEHTA",
          "count": 0,
          "tree": "alder"
         },
         {
          "chapter": "07 - NEELAY MEHTA",
          "count": 5,
          "tree": "ash"
         },
         {
          "chapter": "07 - NEELAY MEHTA",
          "count": 0,
          "tree": "birch"
         },
         {
          "chapter": "07 - NEELAY MEHTA",
          "count": 0,
          "tree": "chestnut"
         },
         {
          "chapter": "07 - NEELAY MEHTA",
          "count": 1,
          "tree": "elm"
         },
         {
          "chapter": "07 - NEELAY MEHTA",
          "count": 6,
          "tree": "fig"
         },
         {
          "chapter": "07 - NEELAY MEHTA",
          "count": 16,
          "tree": "fir"
         },
         {
          "chapter": "07 - NEELAY MEHTA",
          "count": 0,
          "tree": "fusang"
         },
         {
          "chapter": "07 - NEELAY MEHTA",
          "count": 0,
          "tree": "hemlock"
         },
         {
          "chapter": "07 - NEELAY MEHTA",
          "count": 0,
          "tree": "lote"
         },
         {
          "chapter": "07 - NEELAY MEHTA",
          "count": 0,
          "tree": "maple"
         },
         {
          "chapter": "07 - NEELAY MEHTA",
          "count": 1,
          "tree": "mulberry"
         },
         {
          "chapter": "07 - NEELAY MEHTA",
          "count": 6,
          "tree": "oak"
         },
         {
          "chapter": "07 - NEELAY MEHTA",
          "count": 2,
          "tree": "pine"
         },
         {
          "chapter": "07 - NEELAY MEHTA",
          "count": 3,
          "tree": "redwood"
         },
         {
          "chapter": "07 - NEELAY MEHTA",
          "count": 1,
          "tree": "silk"
         },
         {
          "chapter": "07 - NEELAY MEHTA",
          "count": 1,
          "tree": "walnut"
         },
         {
          "chapter": "07 - NEELAY MEHTA",
          "count": 0,
          "tree": "willow"
         },
         {
          "chapter": "08 - PATRICIA WESTERFORD",
          "count": 1,
          "tree": "alder"
         },
         {
          "chapter": "08 - PATRICIA WESTERFORD",
          "count": 12,
          "tree": "ash"
         },
         {
          "chapter": "08 - PATRICIA WESTERFORD",
          "count": 2,
          "tree": "birch"
         },
         {
          "chapter": "08 - PATRICIA WESTERFORD",
          "count": 1,
          "tree": "chestnut"
         },
         {
          "chapter": "08 - PATRICIA WESTERFORD",
          "count": 2,
          "tree": "elm"
         },
         {
          "chapter": "08 - PATRICIA WESTERFORD",
          "count": 4,
          "tree": "fig"
         },
         {
          "chapter": "08 - PATRICIA WESTERFORD",
          "count": 30,
          "tree": "fir"
         },
         {
          "chapter": "08 - PATRICIA WESTERFORD",
          "count": 0,
          "tree": "fusang"
         },
         {
          "chapter": "08 - PATRICIA WESTERFORD",
          "count": 1,
          "tree": "hemlock"
         },
         {
          "chapter": "08 - PATRICIA WESTERFORD",
          "count": 0,
          "tree": "lote"
         },
         {
          "chapter": "08 - PATRICIA WESTERFORD",
          "count": 7,
          "tree": "maple"
         },
         {
          "chapter": "08 - PATRICIA WESTERFORD",
          "count": 0,
          "tree": "mulberry"
         },
         {
          "chapter": "08 - PATRICIA WESTERFORD",
          "count": 7,
          "tree": "oak"
         },
         {
          "chapter": "08 - PATRICIA WESTERFORD",
          "count": 5,
          "tree": "pine"
         },
         {
          "chapter": "08 - PATRICIA WESTERFORD",
          "count": 0,
          "tree": "redwood"
         },
         {
          "chapter": "08 - PATRICIA WESTERFORD",
          "count": 0,
          "tree": "silk"
         },
         {
          "chapter": "08 - PATRICIA WESTERFORD",
          "count": 2,
          "tree": "walnut"
         },
         {
          "chapter": "08 - PATRICIA WESTERFORD",
          "count": 1,
          "tree": "willow"
         },
         {
          "chapter": "09 - OLIVIA VANDERGRIFF",
          "count": 0,
          "tree": "alder"
         },
         {
          "chapter": "09 - OLIVIA VANDERGRIFF",
          "count": 7,
          "tree": "ash"
         },
         {
          "chapter": "09 - OLIVIA VANDERGRIFF",
          "count": 0,
          "tree": "birch"
         },
         {
          "chapter": "09 - OLIVIA VANDERGRIFF",
          "count": 0,
          "tree": "chestnut"
         },
         {
          "chapter": "09 - OLIVIA VANDERGRIFF",
          "count": 0,
          "tree": "elm"
         },
         {
          "chapter": "09 - OLIVIA VANDERGRIFF",
          "count": 2,
          "tree": "fig"
         },
         {
          "chapter": "09 - OLIVIA VANDERGRIFF",
          "count": 6,
          "tree": "fir"
         },
         {
          "chapter": "09 - OLIVIA VANDERGRIFF",
          "count": 0,
          "tree": "fusang"
         },
         {
          "chapter": "09 - OLIVIA VANDERGRIFF",
          "count": 0,
          "tree": "hemlock"
         },
         {
          "chapter": "09 - OLIVIA VANDERGRIFF",
          "count": 0,
          "tree": "lote"
         },
         {
          "chapter": "09 - OLIVIA VANDERGRIFF",
          "count": 0,
          "tree": "maple"
         },
         {
          "chapter": "09 - OLIVIA VANDERGRIFF",
          "count": 0,
          "tree": "mulberry"
         },
         {
          "chapter": "09 - OLIVIA VANDERGRIFF",
          "count": 0,
          "tree": "oak"
         },
         {
          "chapter": "09 - OLIVIA VANDERGRIFF",
          "count": 0,
          "tree": "pine"
         },
         {
          "chapter": "09 - OLIVIA VANDERGRIFF",
          "count": 0,
          "tree": "redwood"
         },
         {
          "chapter": "09 - OLIVIA VANDERGRIFF",
          "count": 0,
          "tree": "silk"
         },
         {
          "chapter": "09 - OLIVIA VANDERGRIFF",
          "count": 0,
          "tree": "walnut"
         },
         {
          "chapter": "09 - OLIVIA VANDERGRIFF",
          "count": 0,
          "tree": "willow"
         },
         {
          "chapter": "10 - TRUNK",
          "count": 2,
          "tree": "alder"
         },
         {
          "chapter": "10 - TRUNK",
          "count": 78,
          "tree": "ash"
         },
         {
          "chapter": "10 - TRUNK",
          "count": 3,
          "tree": "birch"
         },
         {
          "chapter": "10 - TRUNK",
          "count": 13,
          "tree": "chestnut"
         },
         {
          "chapter": "10 - TRUNK",
          "count": 4,
          "tree": "elm"
         },
         {
          "chapter": "10 - TRUNK",
          "count": 35,
          "tree": "fig"
         },
         {
          "chapter": "10 - TRUNK",
          "count": 151,
          "tree": "fir"
         },
         {
          "chapter": "10 - TRUNK",
          "count": 1,
          "tree": "fusang"
         },
         {
          "chapter": "10 - TRUNK",
          "count": 5,
          "tree": "hemlock"
         },
         {
          "chapter": "10 - TRUNK",
          "count": 0,
          "tree": "lote"
         },
         {
          "chapter": "10 - TRUNK",
          "count": 11,
          "tree": "maple"
         },
         {
          "chapter": "10 - TRUNK",
          "count": 16,
          "tree": "mulberry"
         },
         {
          "chapter": "10 - TRUNK",
          "count": 11,
          "tree": "oak"
         },
         {
          "chapter": "10 - TRUNK",
          "count": 31,
          "tree": "pine"
         },
         {
          "chapter": "10 - TRUNK",
          "count": 27,
          "tree": "redwood"
         },
         {
          "chapter": "10 - TRUNK",
          "count": 0,
          "tree": "silk"
         },
         {
          "chapter": "10 - TRUNK",
          "count": 2,
          "tree": "walnut"
         },
         {
          "chapter": "10 - TRUNK",
          "count": 2,
          "tree": "willow"
         },
         {
          "chapter": "11 - CROWN",
          "count": 0,
          "tree": "alder"
         },
         {
          "chapter": "11 - CROWN",
          "count": 51,
          "tree": "ash"
         },
         {
          "chapter": "11 - CROWN",
          "count": 1,
          "tree": "birch"
         },
         {
          "chapter": "11 - CROWN",
          "count": 16,
          "tree": "chestnut"
         },
         {
          "chapter": "11 - CROWN",
          "count": 3,
          "tree": "elm"
         },
         {
          "chapter": "11 - CROWN",
          "count": 31,
          "tree": "fig"
         },
         {
          "chapter": "11 - CROWN",
          "count": 98,
          "tree": "fir"
         },
         {
          "chapter": "11 - CROWN",
          "count": 0,
          "tree": "fusang"
         },
         {
          "chapter": "11 - CROWN",
          "count": 3,
          "tree": "hemlock"
         },
         {
          "chapter": "11 - CROWN",
          "count": 1,
          "tree": "lote"
         },
         {
          "chapter": "11 - CROWN",
          "count": 10,
          "tree": "maple"
         },
         {
          "chapter": "11 - CROWN",
          "count": 5,
          "tree": "mulberry"
         },
         {
          "chapter": "11 - CROWN",
          "count": 15,
          "tree": "oak"
         },
         {
          "chapter": "11 - CROWN",
          "count": 28,
          "tree": "pine"
         },
         {
          "chapter": "11 - CROWN",
          "count": 5,
          "tree": "redwood"
         },
         {
          "chapter": "11 - CROWN",
          "count": 4,
          "tree": "silk"
         },
         {
          "chapter": "11 - CROWN",
          "count": 1,
          "tree": "walnut"
         },
         {
          "chapter": "11 - CROWN",
          "count": 2,
          "tree": "willow"
         },
         {
          "chapter": "12 - SEEDS",
          "count": 0,
          "tree": "alder"
         },
         {
          "chapter": "12 - SEEDS",
          "count": 9,
          "tree": "ash"
         },
         {
          "chapter": "12 - SEEDS",
          "count": 3,
          "tree": "birch"
         },
         {
          "chapter": "12 - SEEDS",
          "count": 2,
          "tree": "chestnut"
         },
         {
          "chapter": "12 - SEEDS",
          "count": 2,
          "tree": "elm"
         },
         {
          "chapter": "12 - SEEDS",
          "count": 5,
          "tree": "fig"
         },
         {
          "chapter": "12 - SEEDS",
          "count": 28,
          "tree": "fir"
         },
         {
          "chapter": "12 - SEEDS",
          "count": 1,
          "tree": "fusang"
         },
         {
          "chapter": "12 - SEEDS",
          "count": 1,
          "tree": "hemlock"
         },
         {
          "chapter": "12 - SEEDS",
          "count": 0,
          "tree": "lote"
         },
         {
          "chapter": "12 - SEEDS",
          "count": 5,
          "tree": "maple"
         },
         {
          "chapter": "12 - SEEDS",
          "count": 1,
          "tree": "mulberry"
         },
         {
          "chapter": "12 - SEEDS",
          "count": 6,
          "tree": "oak"
         },
         {
          "chapter": "12 - SEEDS",
          "count": 8,
          "tree": "pine"
         },
         {
          "chapter": "12 - SEEDS",
          "count": 4,
          "tree": "redwood"
         },
         {
          "chapter": "12 - SEEDS",
          "count": 1,
          "tree": "silk"
         },
         {
          "chapter": "12 - SEEDS",
          "count": 3,
          "tree": "walnut"
         },
         {
          "chapter": "12 - SEEDS",
          "count": 1,
          "tree": "willow"
         }
        ]
       },
       "encoding": {
        "color": {
         "field": "tree",
         "scale": {
          "scheme": "category20b"
         },
         "sort": [
          "Nicholas Hoel",
          "Mimi Ma",
          "Adam Appich",
          "Ray Brinkman",
          "Dorothy Cazaly",
          "Douglas Pavlicek",
          "Neelay Mehta",
          "Patricia Westerford",
          "Olivia Vandergriff"
         ],
         "type": "nominal"
        },
        "tooltip": [
         {
          "field": "tree",
          "type": "nominal"
         },
         {
          "field": "chapter",
          "type": "nominal"
         },
         {
          "field": "count",
          "type": "quantitative"
         }
        ],
        "x": {
         "field": "chapter",
         "type": "nominal"
        },
        "y": {
         "axis": null,
         "field": "count",
         "stack": "center",
         "type": "quantitative"
        }
       },
       "height": 300,
       "mark": {
        "fillOpacity": 0.8,
        "type": "area"
       },
       "selection": {
        "selector004": {
         "bind": "scales",
         "encodings": [
          "x",
          "y"
         ],
         "mark": {
          "fill": "#333",
          "fillOpacity": 0.125,
          "stroke": "white"
         },
         "on": "[mousedown, window:mouseup] > window:mousemove!",
         "resolve": "global",
         "translate": "[mousedown, window:mouseup] > window:mousemove!",
         "type": "interval",
         "zoom": "wheel!"
        }
       },
       "width": 600
      },
      "image/png": "[encoded data removed]",
      "text/plain": [
       "<VegaLite 3 object>\n",
       "\n",
       "If you see this message, it means the renderer has not been properly enabled\n",
       "for the frontend that you are using. For more information, see\n",
       "https://altair-viz.github.io/user_guide/troubleshooting.html\n"
      ]
     },
     "metadata": {},
     "output_type": "display_data"
    }
   ],
   "source": [
    "chart = alt.Chart(data).mark_area(fillOpacity=0.8).encode(\n",
    "    alt.X('chapter'),\n",
    "    alt.Y('count', stack='center', axis=None),\n",
    "    alt.Color(\n",
    "        'tree',\n",
    "        scale=alt.Scale(scheme='category20b'),\n",
    "        sort=charcters\n",
    "    ),\n",
    "    tooltip=['tree', 'chapter', 'count'],\n",
    ").properties(height=300, width=600).interactive()\n",
    "\n",
    "display(Markdown('## Tree references across chapters'))\n",
    "display(chart)"
   ]
  },
  {
   "cell_type": "code",
   "execution_count": 32,
   "metadata": {},
   "outputs": [],
   "source": [
    "# chart.save('out/html/trees.html')\n",
    "\n",
    "# chart.background = 'white'\n",
    "# chart.save('out/png/trees.png', scale_factor=2.0)"
   ]
  },
  {
   "cell_type": "code",
   "execution_count": null,
   "metadata": {},
   "outputs": [],
   "source": []
  },
  {
   "cell_type": "code",
   "execution_count": null,
   "metadata": {},
   "outputs": [],
   "source": []
  },
  {
   "cell_type": "code",
   "execution_count": 33,
   "metadata": {},
   "outputs": [],
   "source": [
    "# all_text = ' '.join([v['text'] for v in content.values()])\n",
    "# text = all_text"
   ]
  },
  {
   "cell_type": "code",
   "execution_count": 34,
   "metadata": {},
   "outputs": [],
   "source": [
    "# for match in re.finditer(r\"\\btree\\b\", text):\n",
    "#     print(match)\n",
    "#     start = match.start() - 25\n",
    "#     end = match.end() + 25\n",
    "    \n",
    "#     print(\"...\", text[start:end], \"...\")\n",
    "#     print()"
   ]
  },
  {
   "cell_type": "code",
   "execution_count": null,
   "metadata": {},
   "outputs": [],
   "source": []
  },
  {
   "cell_type": "code",
   "execution_count": null,
   "metadata": {},
   "outputs": [],
   "source": []
  },
  {
   "cell_type": "code",
   "execution_count": null,
   "metadata": {},
   "outputs": [],
   "source": []
  },
  {
   "cell_type": "code",
   "execution_count": null,
   "metadata": {},
   "outputs": [],
   "source": []
  },
  {
   "cell_type": "code",
   "execution_count": null,
   "metadata": {},
   "outputs": [],
   "source": []
  },
  {
   "cell_type": "markdown",
   "metadata": {},
   "source": [
    "## More NLTK"
   ]
  },
  {
   "cell_type": "markdown",
   "metadata": {},
   "source": [
    "#### Note about stop words\n",
    "\n",
    "Issue with contractions. Maybe alternative tokenizer better?"
   ]
  },
  {
   "cell_type": "code",
   "execution_count": 35,
   "metadata": {},
   "outputs": [
    {
     "data": {
      "text/plain": [
       "['I', 'ca', \"n't\", 'go', '.', 'I', 'do', \"n't\", 'want', 'to', '.']"
      ]
     },
     "execution_count": 35,
     "metadata": {},
     "output_type": "execute_result"
    }
   ],
   "source": [
    "s = \"I can't go. I don't want to.\"\n",
    "tokens = nltk.word_tokenize(s)\n",
    "tokens"
   ]
  },
  {
   "cell_type": "code",
   "execution_count": 36,
   "metadata": {},
   "outputs": [],
   "source": [
    "tagged = nltk.pos_tag(tokens)\n",
    "entities = nltk.chunk.ne_chunk(tagged)"
   ]
  },
  {
   "cell_type": "code",
   "execution_count": 37,
   "metadata": {},
   "outputs": [
    {
     "data": {
      "image/png": "[encoded data removed]",
      "text/plain": [
       "Tree('S', [('I', 'PRP'), ('ca', 'MD'), (\"n't\", 'RB'), ('go', 'VB'), ('.', '.'), ('I', 'PRP'), ('do', 'VBP'), (\"n't\", 'RB'), ('want', 'VB'), ('to', 'TO'), ('.', '.')])"
      ]
     },
     "execution_count": 37,
     "metadata": {},
     "output_type": "execute_result"
    }
   ],
   "source": [
    "entities"
   ]
  },
  {
   "cell_type": "code",
   "execution_count": null,
   "metadata": {},
   "outputs": [],
   "source": []
  },
  {
   "cell_type": "code",
   "execution_count": 38,
   "metadata": {},
   "outputs": [],
   "source": [
    "text = d['ch3']['text']"
   ]
  },
  {
   "cell_type": "code",
   "execution_count": 39,
   "metadata": {},
   "outputs": [
    {
     "data": {
      "text/plain": [
       "'THE DAY IN 1948 when Ma Sih Hsuin gets his third-class ticket for a crossing to San Francisco, his father starts addressing him in English'"
      ]
     },
     "execution_count": 39,
     "metadata": {},
     "output_type": "execute_result"
    }
   ],
   "source": [
    "sentence = text.split(\"\\n\\n\")[1].split(\".\")[0]\n",
    "sentence"
   ]
  },
  {
   "cell_type": "code",
   "execution_count": 40,
   "metadata": {},
   "outputs": [],
   "source": [
    "tokens = nltk.word_tokenize(sentence)\n",
    "tagged = nltk.pos_tag(tokens)\n",
    "entities = nltk.chunk.ne_chunk(tagged)"
   ]
  },
  {
   "cell_type": "code",
   "execution_count": 41,
   "metadata": {},
   "outputs": [
    {
     "data": {
      "text/plain": [
       "[('THE', 'DT'), ('DAY', 'NNP'), ('IN', 'NNP'), ('1948', 'CD'), ('when', 'WRB')]"
      ]
     },
     "execution_count": 41,
     "metadata": {},
     "output_type": "execute_result"
    }
   ],
   "source": [
    "tagged[:5]"
   ]
  },
  {
   "cell_type": "code",
   "execution_count": 42,
   "metadata": {},
   "outputs": [],
   "source": [
    "# nltk.help.upenn_tagset('NNP')"
   ]
  },
  {
   "cell_type": "code",
   "execution_count": 43,
   "metadata": {},
   "outputs": [
    {
     "data": {
      "text/plain": [
       "[Tree('PERSON', [('Ma', 'NNP'), ('Sih', 'NNP'), ('Hsuin', 'NNP')]),\n",
       " Tree('GPE', [('San', 'NNP'), ('Francisco', 'NNP')]),\n",
       " Tree('GPE', [('English', 'NNP')])]"
      ]
     },
     "execution_count": 43,
     "metadata": {},
     "output_type": "execute_result"
    }
   ],
   "source": [
    "trees = [x for x in entities if type(x) == nltk.tree.Tree]\n",
    "trees"
   ]
  },
  {
   "cell_type": "code",
   "execution_count": 44,
   "metadata": {},
   "outputs": [
    {
     "data": {
      "image/png": "[encoded data removed]",
      "text/plain": [
       "Tree('PERSON', [('Ma', 'NNP'), ('Sih', 'NNP'), ('Hsuin', 'NNP')])"
      ]
     },
     "execution_count": 44,
     "metadata": {},
     "output_type": "execute_result"
    }
   ],
   "source": [
    "t = trees[0]\n",
    "t"
   ]
  },
  {
   "cell_type": "code",
   "execution_count": 45,
   "metadata": {},
   "outputs": [
    {
     "data": {
      "text/plain": [
       "'PERSON'"
      ]
     },
     "execution_count": 45,
     "metadata": {},
     "output_type": "execute_result"
    }
   ],
   "source": [
    "t.label()"
   ]
  },
  {
   "cell_type": "code",
   "execution_count": 46,
   "metadata": {},
   "outputs": [
    {
     "data": {
      "text/plain": [
       "[('Ma', 'NNP'), ('Sih', 'NNP'), ('Hsuin', 'NNP')]"
      ]
     },
     "execution_count": 46,
     "metadata": {},
     "output_type": "execute_result"
    }
   ],
   "source": [
    "t.leaves()"
   ]
  },
  {
   "cell_type": "code",
   "execution_count": 47,
   "metadata": {},
   "outputs": [],
   "source": [
    "# for match in re.finditer(r\"\\bMa\\b\", text):\n",
    "#     print(match)\n",
    "#     start = match.start() - 20\n",
    "#     end = match.end() + 20\n",
    "    \n",
    "#     print(text[start:end])\n",
    "#     print()"
   ]
  },
  {
   "cell_type": "code",
   "execution_count": 48,
   "metadata": {},
   "outputs": [],
   "source": [
    "# # name = r\"\\bHoel\\b\"\n",
    "# # name = r\"\\bMa\\b\"\n",
    "# name = r\"[19]\\d\\d\"  # a year?"
   ]
  },
  {
   "cell_type": "code",
   "execution_count": 49,
   "metadata": {},
   "outputs": [],
   "source": [
    "# for section, v in d.items():\n",
    "#     print(\"========\")\n",
    "#     print(section)\n",
    "#     text = v['text']\n",
    "#     for match in re.finditer(name, text):\n",
    "#         print(match)\n",
    "#         start = match.start() - 20\n",
    "#         end = match.end() + 20\n",
    "\n",
    "#         print(text[start:end])\n",
    "#         print()"
   ]
  },
  {
   "cell_type": "code",
   "execution_count": null,
   "metadata": {},
   "outputs": [],
   "source": []
  },
  {
   "cell_type": "code",
   "execution_count": null,
   "metadata": {},
   "outputs": [],
   "source": []
  },
  {
   "cell_type": "code",
   "execution_count": null,
   "metadata": {},
   "outputs": [],
   "source": []
  }
 ],
 "metadata": {
  "kernelspec": {
   "display_name": "Python 3",
   "language": "python",
   "name": "python3"
  },
  "language_info": {
   "codemirror_mode": {
    "name": "ipython",
    "version": 3
   },
   "file_extension": ".py",
   "mimetype": "text/x-python",
   "name": "python",
   "nbconvert_exporter": "python",
   "pygments_lexer": "ipython3",
   "version": "3.7.3"
  }
 },
 "nbformat": 4,
 "nbformat_minor": 4
}
